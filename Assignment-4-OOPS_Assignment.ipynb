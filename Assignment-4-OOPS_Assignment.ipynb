{
  "nbformat": 4,
  "nbformat_minor": 0,
  "metadata": {
    "colab": {
      "provenance": []
    },
    "kernelspec": {
      "name": "python3",
      "display_name": "Python 3"
    },
    "language_info": {
      "name": "python"
    }
  },
  "cells": [
    {
      "cell_type": "markdown",
      "source": [
        "#Python OOPs Questions"
      ],
      "metadata": {
        "id": "eQF0U3RGJx30"
      }
    },
    {
      "cell_type": "markdown",
      "source": [
        "### Q1. What is Object-Oriented Programming (OOP)?\n",
        "\n",
        "Object-Oriented Programming is a method of structuring programs using classes and objects to model real-world entities and behaviors.\n"
      ],
      "metadata": {
        "id": "euo9-PcnJz-y"
      }
    },
    {
      "cell_type": "markdown",
      "source": [
        "###Q2. What is a class in OOP?\n",
        "\n",
        "A class is a blueprint for creating objects. It defines the properties and behaviors that the objects created from it will have."
      ],
      "metadata": {
        "id": "LQxKI9grJ4pR"
      }
    },
    {
      "cell_type": "markdown",
      "source": [
        "### Q3. What is an object in OOP?\n",
        "\n",
        "An object is an instance of a class. It contains real values for the properties defined in the class and can perform actions using the class methods.\n"
      ],
      "metadata": {
        "id": "XLTEaNBcKr2T"
      }
    },
    {
      "cell_type": "markdown",
      "source": [
        "### Q4. What is the difference between abstraction and encapsulation?\n",
        "\n",
        "Abstraction hides complex implementation details and shows only the essential features to the user, while encapsulation binds data and methods together and restricts direct access to some of the object’s components.\n"
      ],
      "metadata": {
        "id": "GorOFjyrKwFx"
      }
    },
    {
      "cell_type": "markdown",
      "source": [
        "### Q5. What are dunder methods in Python?\n",
        "\n",
        "Dunder methods, also called magic methods, are special methods in Python that start and end with double underscores (like __init__, __str__). They allow customization of basic behavior like object creation, printing, or comparison.\n"
      ],
      "metadata": {
        "id": "tMyW1WDpK0ia"
      }
    },
    {
      "cell_type": "markdown",
      "source": [
        "### Q6. Explain the concept of inheritance in OOP\n",
        "\n",
        "Inheritance allows one class (child) to acquire the properties and methods of another class (parent), promoting code reuse and logical hierarchy.\n",
        "\n"
      ],
      "metadata": {
        "id": "HeAMqbQmK44i"
      }
    },
    {
      "cell_type": "markdown",
      "source": [
        "### Q7. What is polymorphism in OOP?\n",
        "\n",
        "Polymorphism means the ability of different classes to respond to the same method in different ways. It allows methods with the same name to behave differently based on the object calling them.\n"
      ],
      "metadata": {
        "id": "Kjq6LHUgK-Vq"
      }
    },
    {
      "cell_type": "markdown",
      "source": [
        "### Q8. How is encapsulation achieved in Python?\n",
        "\n",
        "Encapsulation in Python is achieved by using private variables (with double underscores) and controlling access through getter and setter methods or the @property decorator.\n"
      ],
      "metadata": {
        "id": "qYu-J2AmLCap"
      }
    },
    {
      "cell_type": "markdown",
      "source": [
        "### Q9. What is a constructor in Python?\n",
        "\n",
        "A constructor in Python is a special method called __init__ that is automatically executed when an object is created. It is used to initialize the object’s attributes.\n"
      ],
      "metadata": {
        "id": "pCE0Onf5LF_B"
      }
    },
    {
      "cell_type": "markdown",
      "source": [
        "### Q10. What are class and static methods in Python?\n",
        "\n",
        "Class methods are defined using @classmethod and take the class as the first argument (cls). They can access or modify class-level data. Static methods use @staticmethod and don’t take self or cls; they act like regular functions within the class.\n"
      ],
      "metadata": {
        "id": "q7Ij6fnaLKOh"
      }
    },
    {
      "cell_type": "markdown",
      "source": [
        "### Q11. What is method overloading in Python?\n",
        "\n",
        "Method overloading in Python refers to defining multiple methods with the same name but different parameters. However, Python does not support it directly; the latest defined method overrides the previous ones. It can be mimicked using default or variable-length arguments.\n"
      ],
      "metadata": {
        "id": "MeVFOQ1BLKLx"
      }
    },
    {
      "cell_type": "markdown",
      "source": [
        "### Q12. What is method overriding in OOP?\n",
        "\n",
        "Method overriding occurs when a subclass defines a method with the same name and parameters as a method in its parent class. It allows the subclass to provide a specific implementation of the method.\n"
      ],
      "metadata": {
        "id": "_5QABSwnLKIr"
      }
    },
    {
      "cell_type": "markdown",
      "source": [
        "### Q13. What is a property decorator in Python?\n",
        "\n",
        "A property decorator (@property) is used to define a method that can be accessed like an attribute. It is commonly used to get or set the value of a private attribute in a controlled way.\n"
      ],
      "metadata": {
        "id": "Pr46jsH6LKFx"
      }
    },
    {
      "cell_type": "markdown",
      "source": [
        "### Q14. Why is polymorphism important in OOP?\n",
        "\n",
        "Polymorphism is important because it allows objects of different classes to be treated as objects of a common superclass. It enables flexibility and scalability by allowing the same interface to work with different underlying forms.\n"
      ],
      "metadata": {
        "id": "sfcjaMwiLKC5"
      }
    },
    {
      "cell_type": "markdown",
      "source": [
        "### Q15. What is an abstract class in Python?\n",
        "\n",
        "An abstract class in Python is a class that cannot be instantiated directly and is meant to be inherited. It can contain abstract methods, which are defined but not implemented. Abstract classes are created using the abc module.\n"
      ],
      "metadata": {
        "id": "q1qDEjrnLJ_y"
      }
    },
    {
      "cell_type": "markdown",
      "source": [
        "### Q16. What are the advantages of OOP?\n",
        "\n",
        "OOP offers better code organization, reusability through inheritance, easier maintenance, data protection using encapsulation, and flexibility through polymorphism and abstraction.\n"
      ],
      "metadata": {
        "id": "ZiOscWKULJ2x"
      }
    },
    {
      "cell_type": "markdown",
      "source": [
        "### Q17. What is the difference between a class variable and an instance variable?\n",
        "\n",
        "A class variable is shared across all instances of a class, while an instance variable is unique to each object. Class variables are defined at the class level, whereas instance variables are defined inside the constructor using self.\n"
      ],
      "metadata": {
        "id": "4yFcPcUyLJga"
      }
    },
    {
      "cell_type": "markdown",
      "source": [
        "### Q18. What is multiple inheritance in Python?\n",
        "\n",
        "Multiple inheritance in Python means a class can inherit from more than one parent class. This allows the child class to access properties and methods from all parent classes.\n"
      ],
      "metadata": {
        "id": "e61beg5FLlmi"
      }
    },
    {
      "cell_type": "markdown",
      "source": [
        "### Q19. Explain the purpose of ‘__str__’ and ‘__repr__’ methods in Python?\n",
        "\n",
        "The __str__ method defines the user-friendly string representation of an object, used by print(). The __repr__ method returns an official string representation used for debugging, meant to recreate the object if possible.\n"
      ],
      "metadata": {
        "id": "wEx1x1PJLola"
      }
    },
    {
      "cell_type": "markdown",
      "source": [
        "### Q20. What is the significance of the ‘super()’ function in Python?\n",
        "\n",
        "The super() function is used to call methods from a parent class. It allows access to inherited methods without directly referring to the parent class name, making code more maintainable and supporting multiple inheritance.\n"
      ],
      "metadata": {
        "id": "vsk7aPE6Ls-x"
      }
    },
    {
      "cell_type": "markdown",
      "source": [
        "### Q21. What is the significance of the __del__ method in Python?\n",
        "\n",
        "The __del__ method is a destructor that is called when an object is about to be destroyed. It is used to perform cleanup actions like closing files or releasing resources.\n"
      ],
      "metadata": {
        "id": "V4lwS36XLxFK"
      }
    },
    {
      "cell_type": "markdown",
      "source": [
        "### Q22. What is the difference between @staticmethod and @classmethod in Python?\n",
        "\n",
        "@staticmethod defines a method that doesn’t access instance or class data. It behaves like a regular function inside a class.  \n",
        "@classmethod takes the class as its first argument (cls) and can modify class-level data or create instances.\n"
      ],
      "metadata": {
        "id": "rcdGIddELz7T"
      }
    },
    {
      "cell_type": "markdown",
      "source": [
        "### Q23. How does polymorphism work in Python with inheritance?\n",
        "\n",
        "In Python, polymorphism with inheritance allows a child class to override a method from the parent class. When the method is called on an object, Python automatically runs the version that belongs to the object’s actual class.\n"
      ],
      "metadata": {
        "id": "pKTXI3d_L3uC"
      }
    },
    {
      "cell_type": "markdown",
      "source": [
        "### Q24. What is method chaining in Python OOP?\n",
        "\n",
        "Method chaining is a technique where multiple methods are called on the same object in a single line. Each method returns the object itself, allowing calls to be linked together.\n"
      ],
      "metadata": {
        "id": "YbV5CP5IL7ri"
      }
    },
    {
      "cell_type": "markdown",
      "source": [
        "### Q25. What is the purpose of the __call__ method in Python?\n",
        "\n",
        "The __call__ method allows an instance of a class to be called like a function. When defined, calling the object runs the __call__ method automatically.\n"
      ],
      "metadata": {
        "id": "x6HalU0SL__q"
      }
    },
    {
      "cell_type": "markdown",
      "source": [
        "#Practical Questions"
      ],
      "metadata": {
        "id": "wN6_x0NUMD06"
      }
    },
    {
      "cell_type": "markdown",
      "source": [
        "###Q1. Create a parent class Animal with a method speak() that prints a generic message. Create a child class Dog that overrides the speak() method to print \"Bark!\".\n"
      ],
      "metadata": {
        "id": "aqHQr48YMG_p"
      }
    },
    {
      "cell_type": "code",
      "source": [
        "class Animal:\n",
        "    def speak(self):\n",
        "        print(\"Animal speaks\")\n",
        "\n",
        "class Dog(Animal):\n",
        "    def speak(self):\n",
        "        print(\"Bark!\")\n",
        "\n",
        "d = Dog()\n",
        "d.speak()"
      ],
      "metadata": {
        "colab": {
          "base_uri": "https://localhost:8080/"
        },
        "id": "V6hHLjCGMc9j",
        "outputId": "025cfce8-3693-4f94-d6e4-2342aa0b66f8"
      },
      "execution_count": 1,
      "outputs": [
        {
          "output_type": "stream",
          "name": "stdout",
          "text": [
            "Bark!\n"
          ]
        }
      ]
    },
    {
      "cell_type": "markdown",
      "source": [
        "### Q2. Write a program to create an abstract class Shape with a method area(). Derive classes Circle and Rectangle from it and implement the area() method in both.\n"
      ],
      "metadata": {
        "id": "5-fZEi4eMkYb"
      }
    },
    {
      "cell_type": "code",
      "source": [
        "from abc import ABC, abstractmethod\n",
        "\n",
        "class Shape(ABC):\n",
        "    @abstractmethod\n",
        "    def area(self):\n",
        "        pass\n",
        "\n",
        "class Circle(Shape):\n",
        "    def __init__(self, radius):\n",
        "        self.radius = radius\n",
        "\n",
        "    def area(self):\n",
        "        return 3.14 * self.radius * self.radius\n",
        "\n",
        "class Rectangle(Shape):\n",
        "    def __init__(self, length, width):\n",
        "        self.length = length\n",
        "        self.width = width\n",
        "\n",
        "    def area(self):\n",
        "        return self.length * self.width\n",
        "\n",
        "c = Circle(5)\n",
        "r = Rectangle(4, 6)\n",
        "\n",
        "print(c.area())\n",
        "print(r.area())"
      ],
      "metadata": {
        "colab": {
          "base_uri": "https://localhost:8080/"
        },
        "id": "CcGVRXcaMdDi",
        "outputId": "df76d341-8590-4ebd-c1d1-a1d53d596ee8"
      },
      "execution_count": 2,
      "outputs": [
        {
          "output_type": "stream",
          "name": "stdout",
          "text": [
            "78.5\n",
            "24\n"
          ]
        }
      ]
    },
    {
      "cell_type": "markdown",
      "source": [
        "### Q3. Implement a multi-level inheritance scenario where a class Vehicle has an attribute type. Derive a class Car and further derive a class ElectricCar that adds a battery attribute.\n"
      ],
      "metadata": {
        "id": "a7WUJFMkMuF5"
      }
    },
    {
      "cell_type": "code",
      "source": [
        "class Vehicle:\n",
        "    def __init__(self, type):\n",
        "        self.type = type\n",
        "\n",
        "class Car(Vehicle):\n",
        "    def __init__(self, type, brand):\n",
        "        super().__init__(type)\n",
        "        self.brand = brand\n",
        "\n",
        "class ElectricCar(Car):\n",
        "    def __init__(self, type, brand, battery):\n",
        "        super().__init__(type, brand)\n",
        "        self.battery = battery\n",
        "\n",
        "e_car = ElectricCar(\"Four-wheeler\", \"Tesla\", \"100 kWh\")\n",
        "print(e_car.type)\n",
        "print(e_car.brand)\n",
        "print(e_car.battery)"
      ],
      "metadata": {
        "colab": {
          "base_uri": "https://localhost:8080/"
        },
        "id": "S75EUDp5MpPZ",
        "outputId": "f80f48ea-9bdd-4ede-f4c1-f2fd83f8cf18"
      },
      "execution_count": 3,
      "outputs": [
        {
          "output_type": "stream",
          "name": "stdout",
          "text": [
            "Four-wheeler\n",
            "Tesla\n",
            "100 kWh\n"
          ]
        }
      ]
    },
    {
      "cell_type": "markdown",
      "source": [
        "### Q4. Demonstrate polymorphism by creating a base class Bird with a method fly(). Create two derived classes Sparrow and Penguin that override the fly() method.\n"
      ],
      "metadata": {
        "id": "d9E8QZw3Mwc6"
      }
    },
    {
      "cell_type": "code",
      "source": [
        "class Bird:\n",
        "    def fly(self):\n",
        "        print(\"Bird can fly\")\n",
        "\n",
        "class Sparrow(Bird):\n",
        "    def fly(self):\n",
        "        print(\"Sparrow flies high\")\n",
        "\n",
        "class Penguin(Bird):\n",
        "    def fly(self):\n",
        "        print(\"Penguin cannot fly\")\n",
        "\n",
        "birds = [Sparrow(), Penguin()]\n",
        "\n",
        "for bird in birds:\n",
        "    bird.fly()"
      ],
      "metadata": {
        "colab": {
          "base_uri": "https://localhost:8080/"
        },
        "id": "aBhygUF2Mvss",
        "outputId": "5fa2e447-92fb-49f5-ac0f-9ef78a4dc677"
      },
      "execution_count": 4,
      "outputs": [
        {
          "output_type": "stream",
          "name": "stdout",
          "text": [
            "Sparrow flies high\n",
            "Penguin cannot fly\n"
          ]
        }
      ]
    },
    {
      "cell_type": "markdown",
      "source": [
        "### Q5. Write a program to demonstrate encapsulation by creating a class BankAccount with private attributes balance and methods to deposit, withdraw, and check balance.\n"
      ],
      "metadata": {
        "id": "I1cBkJ6jM4d5"
      }
    },
    {
      "cell_type": "code",
      "source": [
        "class BankAccount:\n",
        "    def __init__(self, initial_balance):\n",
        "        self.__balance = initial_balance\n",
        "\n",
        "    def deposit(self, amount):\n",
        "        if amount > 0:\n",
        "            self.__balance += amount\n",
        "\n",
        "    def withdraw(self, amount):\n",
        "        if 0 < amount <= self.__balance:\n",
        "            self.__balance -= amount\n",
        "\n",
        "    def check_balance(self):\n",
        "        return self.__balance\n",
        "\n",
        "account = BankAccount(1000)\n",
        "account.deposit(500)\n",
        "account.withdraw(300)\n",
        "print(account.check_balance())"
      ],
      "metadata": {
        "colab": {
          "base_uri": "https://localhost:8080/"
        },
        "id": "dIIAV_34M2b8",
        "outputId": "387c6eb2-305f-4ff8-dfef-2ceeb29c5721"
      },
      "execution_count": 5,
      "outputs": [
        {
          "output_type": "stream",
          "name": "stdout",
          "text": [
            "1200\n"
          ]
        }
      ]
    },
    {
      "cell_type": "markdown",
      "source": [
        "### Q6. Demonstrate runtime polymorphism using a method play() in a base class Instrument. Derive classes Guitar and Piano that implement their own version of play().\n"
      ],
      "metadata": {
        "id": "yUVM1We6NBO7"
      }
    },
    {
      "cell_type": "code",
      "source": [
        "class Instrument:\n",
        "    def play(self):\n",
        "        print(\"Instrument is playing\")\n",
        "\n",
        "class Guitar(Instrument):\n",
        "    def play(self):\n",
        "        print(\"Guitar is playing\")\n",
        "\n",
        "class Piano(Instrument):\n",
        "    def play(self):\n",
        "        print(\"Piano is playing\")\n",
        "\n",
        "instruments = [Guitar(), Piano()]\n",
        "\n",
        "for instrument in instruments:\n",
        "    instrument.play()"
      ],
      "metadata": {
        "colab": {
          "base_uri": "https://localhost:8080/"
        },
        "id": "LjFXQqTiM84g",
        "outputId": "1cd90174-8e0d-42ca-8931-59139e919371"
      },
      "execution_count": 6,
      "outputs": [
        {
          "output_type": "stream",
          "name": "stdout",
          "text": [
            "Guitar is playing\n",
            "Piano is playing\n"
          ]
        }
      ]
    },
    {
      "cell_type": "markdown",
      "source": [
        "### Q7. Create a class MathOperations with a class method add_numbers() to add two numbers and a static method subtract_numbers() to subtract two numbers."
      ],
      "metadata": {
        "id": "8heaO5W2NDmS"
      }
    },
    {
      "cell_type": "code",
      "source": [
        "class MathOperations:\n",
        "    @classmethod\n",
        "    def add_numbers(cls, a, b):\n",
        "        return a + b\n",
        "\n",
        "    @staticmethod\n",
        "    def subtract_numbers(a, b):\n",
        "        return a - b\n",
        "\n",
        "print(MathOperations.add_numbers(10, 5))\n",
        "print(MathOperations.subtract_numbers(10, 5))"
      ],
      "metadata": {
        "colab": {
          "base_uri": "https://localhost:8080/"
        },
        "id": "Un0xwqirNCvz",
        "outputId": "3fc2e471-bc11-472d-b409-0ececf77abad"
      },
      "execution_count": 7,
      "outputs": [
        {
          "output_type": "stream",
          "name": "stdout",
          "text": [
            "15\n",
            "5\n"
          ]
        }
      ]
    },
    {
      "cell_type": "markdown",
      "source": [
        "### Q8. Implement a class Person with a class method to count the total number of persons created.\n"
      ],
      "metadata": {
        "id": "8UonzgGCNMGq"
      }
    },
    {
      "cell_type": "code",
      "source": [
        "class Person:\n",
        "    count = 0\n",
        "\n",
        "    def __init__(self, name):\n",
        "        self.name = name\n",
        "        Person.count += 1\n",
        "\n",
        "    @classmethod\n",
        "    def total_persons(cls):\n",
        "        return cls.count\n",
        "\n",
        "p1 = Person(\"Alice\")\n",
        "p2 = Person(\"Bob\")\n",
        "\n",
        "print(Person.total_persons())"
      ],
      "metadata": {
        "colab": {
          "base_uri": "https://localhost:8080/"
        },
        "id": "TEsLT2NGNH4N",
        "outputId": "e423d0a9-c7f1-43e4-fbc7-94f5dde5d547"
      },
      "execution_count": 8,
      "outputs": [
        {
          "output_type": "stream",
          "name": "stdout",
          "text": [
            "2\n"
          ]
        }
      ]
    },
    {
      "cell_type": "markdown",
      "source": [
        "### Q9. Write a class Fraction with attributes numerator and denominator. Override the __str__ method to display the fraction as \"numerator/denominator\".\n"
      ],
      "metadata": {
        "id": "FYtHoTqZNN5J"
      }
    },
    {
      "cell_type": "code",
      "source": [
        "class Fraction:\n",
        "    def __init__(self, numerator, denominator):\n",
        "        self.numerator = numerator\n",
        "        self.denominator = denominator\n",
        "\n",
        "    def __str__(self):\n",
        "        return f\"{self.numerator}/{self.denominator}\"\n",
        "\n",
        "f = Fraction(3, 4)\n",
        "print(f)"
      ],
      "metadata": {
        "colab": {
          "base_uri": "https://localhost:8080/"
        },
        "id": "wjKAZc1vNNZQ",
        "outputId": "5cf11edf-4ac1-4e70-a8f0-7e41977709fd"
      },
      "execution_count": 9,
      "outputs": [
        {
          "output_type": "stream",
          "name": "stdout",
          "text": [
            "3/4\n"
          ]
        }
      ]
    },
    {
      "cell_type": "markdown",
      "source": [
        "10. Demonstrate operator overloading by creating a class Vector and overriding the add method to add two\n",
        "vectors."
      ],
      "metadata": {
        "id": "QGnjWc8bNTMj"
      }
    },
    {
      "cell_type": "code",
      "source": [
        "class Vector:\n",
        "    def __init__(self, x, y):\n",
        "        self.x = x\n",
        "        self.y = y\n",
        "\n",
        "    def __add__(self, other):\n",
        "        return Vector(self.x + other.x, self.y + other.y)\n",
        "\n",
        "    def __str__(self):\n",
        "        return f\"({self.x}, {self.y})\"\n",
        "\n",
        "v1 = Vector(2, 3)\n",
        "v2 = Vector(4, 5)\n",
        "v3 = v1 + v2\n",
        "print(v3)"
      ],
      "metadata": {
        "colab": {
          "base_uri": "https://localhost:8080/"
        },
        "id": "6pGpTJxwNSjn",
        "outputId": "51886523-0484-49a7-afea-6bba2d34ce45"
      },
      "execution_count": 10,
      "outputs": [
        {
          "output_type": "stream",
          "name": "stdout",
          "text": [
            "(6, 8)\n"
          ]
        }
      ]
    },
    {
      "cell_type": "markdown",
      "source": [
        "### Q11. Create a class Person with attributes name and age. Add a method greet() that prints \"Hello, my name is {name} and I am {age} years old.\"\n"
      ],
      "metadata": {
        "id": "1hskGS4QNYTa"
      }
    },
    {
      "cell_type": "code",
      "source": [
        "class Person:\n",
        "    def __init__(self, name, age):\n",
        "        self.name = name\n",
        "        self.age = age\n",
        "\n",
        "    def greet(self):\n",
        "        print(f\"Hello, my name is {self.name} and I am {self.age} years old.\")\n",
        "\n",
        "p = Person(\"swaraa\", 22)\n",
        "p.greet()"
      ],
      "metadata": {
        "colab": {
          "base_uri": "https://localhost:8080/"
        },
        "id": "7b68UviGNXa4",
        "outputId": "a47b3885-0d5c-44e1-b2de-6416f1f4d1fd"
      },
      "execution_count": 11,
      "outputs": [
        {
          "output_type": "stream",
          "name": "stdout",
          "text": [
            "Hello, my name is swaraa and I am 22 years old.\n"
          ]
        }
      ]
    },
    {
      "cell_type": "markdown",
      "source": [
        "### Q12. Implement a class Student with attributes name and grades. Create a method average_grade() to compute the average of the grades.\n"
      ],
      "metadata": {
        "id": "5ToGTRyFNkr5"
      }
    },
    {
      "cell_type": "code",
      "source": [
        "class Student:\n",
        "    def __init__(self, name, grades):\n",
        "        self.name = name\n",
        "        self.grades = grades\n",
        "\n",
        "    def average_grade(self):\n",
        "        return sum(self.grades) / len(self.grades)\n",
        "\n",
        "s = Student(\"John\", [85, 90, 78])\n",
        "print(s.average_grade())"
      ],
      "metadata": {
        "colab": {
          "base_uri": "https://localhost:8080/"
        },
        "id": "aZ5r223_NgWz",
        "outputId": "502004e4-14f0-41c8-e551-a881e5aee6b7"
      },
      "execution_count": 12,
      "outputs": [
        {
          "output_type": "stream",
          "name": "stdout",
          "text": [
            "84.33333333333333\n"
          ]
        }
      ]
    },
    {
      "cell_type": "markdown",
      "source": [
        "### Q13. Create a class Rectangle with methods set_dimensions() to set the dimensions and area() to calculate the area.\n"
      ],
      "metadata": {
        "id": "bmKrOJtvNnaB"
      }
    },
    {
      "cell_type": "code",
      "source": [
        "class Rectangle:\n",
        "    def set_dimensions(self, length, width):\n",
        "        self.length = length\n",
        "        self.width = width\n",
        "\n",
        "    def area(self):\n",
        "        return self.length * self.width\n",
        "\n",
        "r = Rectangle()\n",
        "r.set_dimensions(5, 3)\n",
        "print(r.area())"
      ],
      "metadata": {
        "colab": {
          "base_uri": "https://localhost:8080/"
        },
        "id": "e5roXrE2NmtN",
        "outputId": "0764fa59-fcd2-4c86-b445-f8033921c185"
      },
      "execution_count": 13,
      "outputs": [
        {
          "output_type": "stream",
          "name": "stdout",
          "text": [
            "15\n"
          ]
        }
      ]
    },
    {
      "cell_type": "markdown",
      "source": [
        "### Q14. Create a class Employee with a method calculate_salary() that computes the salary based on hours worked and hourly rate. Create a derived class Manager that adds a bonus to the salary.\n"
      ],
      "metadata": {
        "id": "uEMdW8bhNsCS"
      }
    },
    {
      "cell_type": "code",
      "source": [
        "class Employee:\n",
        "    def __init__(self, hours_worked, hourly_rate):\n",
        "        self.hours_worked = hours_worked\n",
        "        self.hourly_rate = hourly_rate\n",
        "\n",
        "    def calculate_salary(self):\n",
        "        return self.hours_worked * self.hourly_rate\n",
        "\n",
        "class Manager(Employee):\n",
        "    def __init__(self, hours_worked, hourly_rate, bonus):\n",
        "        super().__init__(hours_worked, hourly_rate)\n",
        "        self.bonus = bonus\n",
        "\n",
        "    def calculate_salary(self):\n",
        "        base_salary = super().calculate_salary()\n",
        "        return base_salary + self.bonus\n",
        "\n",
        "m = Manager(40, 20, 500)\n",
        "print(m.calculate_salary())"
      ],
      "metadata": {
        "colab": {
          "base_uri": "https://localhost:8080/"
        },
        "id": "9sun0yWwNrlD",
        "outputId": "dfccba93-7128-4ff5-9c2d-e017979063bb"
      },
      "execution_count": 14,
      "outputs": [
        {
          "output_type": "stream",
          "name": "stdout",
          "text": [
            "1300\n"
          ]
        }
      ]
    },
    {
      "cell_type": "markdown",
      "source": [
        "### Q15. Create a class Product with attributes name, price, and quantity. Implement a method total_price() that calculates the total price of the product.\n"
      ],
      "metadata": {
        "id": "sXRRzgotNw7p"
      }
    },
    {
      "cell_type": "code",
      "source": [
        "class Product:\n",
        "    def __init__(self, name, price, quantity):\n",
        "        self.name = name\n",
        "        self.price = price\n",
        "        self.quantity = quantity\n",
        "\n",
        "    def total_price(self):\n",
        "        return self.price * self.quantity\n",
        "\n",
        "p = Product(\"Laptop\", 800, 3)\n",
        "print(p.total_price())"
      ],
      "metadata": {
        "colab": {
          "base_uri": "https://localhost:8080/"
        },
        "id": "ghoXXqxhNwZ1",
        "outputId": "505a46c8-ebdb-466d-9cb9-f994b9682cd9"
      },
      "execution_count": 15,
      "outputs": [
        {
          "output_type": "stream",
          "name": "stdout",
          "text": [
            "2400\n"
          ]
        }
      ]
    },
    {
      "cell_type": "markdown",
      "source": [
        "### Q16. Create a class Animal with an abstract method sound(). Create two derived classes Cow and Sheep that implement the sound() method.\n"
      ],
      "metadata": {
        "id": "R3o41RFaN2RR"
      }
    },
    {
      "cell_type": "code",
      "source": [
        "from abc import ABC, abstractmethod\n",
        "\n",
        "class Animal(ABC):\n",
        "    @abstractmethod\n",
        "    def sound(self):\n",
        "        pass\n",
        "\n",
        "class Cow(Animal):\n",
        "    def sound(self):\n",
        "        print(\"Moo\")\n",
        "\n",
        "class Sheep(Animal):\n",
        "    def sound(self):\n",
        "        print(\"Baa\")\n",
        "\n",
        "c = Cow()\n",
        "s = Sheep()\n",
        "c.sound()\n",
        "s.sound()"
      ],
      "metadata": {
        "colab": {
          "base_uri": "https://localhost:8080/"
        },
        "id": "yFIC74lFN1w6",
        "outputId": "3c354e3e-9ca4-427b-ab3f-958f297fb42b"
      },
      "execution_count": 16,
      "outputs": [
        {
          "output_type": "stream",
          "name": "stdout",
          "text": [
            "Moo\n",
            "Baa\n"
          ]
        }
      ]
    },
    {
      "cell_type": "markdown",
      "source": [
        "### Q17. Create a class Book with attributes title, author, and year_published. Add a method get_book_info() that returns a formatted string with the book's details.\n"
      ],
      "metadata": {
        "id": "AXCPwLAqN9si"
      }
    },
    {
      "cell_type": "code",
      "source": [
        "class Book:\n",
        "    def __init__(self, title, author, year_published):\n",
        "        self.title = title\n",
        "        self.author = author\n",
        "        self.year_published = year_published\n",
        "\n",
        "    def get_book_info(self):\n",
        "        return f\"'{self.title}' by {self.author}, published in {self.year_published}\"\n",
        "\n",
        "b = Book(\"1984\", \"ABC\", 1949)\n",
        "print(b.get_book_info())"
      ],
      "metadata": {
        "colab": {
          "base_uri": "https://localhost:8080/"
        },
        "id": "QAiCdJRCN64l",
        "outputId": "e63bdfee-3969-4a5d-c572-f48cee65ee7a"
      },
      "execution_count": 19,
      "outputs": [
        {
          "output_type": "stream",
          "name": "stdout",
          "text": [
            "'1984' by ABC, published in 1949\n"
          ]
        }
      ]
    },
    {
      "cell_type": "markdown",
      "source": [
        "### Q18. Create a class House with attributes address and price. Create a derived class Mansion that adds an attribute number_of_rooms.\n"
      ],
      "metadata": {
        "id": "83goNYmGOKax"
      }
    },
    {
      "cell_type": "code",
      "source": [
        "class House:\n",
        "    def __init__(self, address, price):\n",
        "        self.address = address\n",
        "        self.price = price\n",
        "\n",
        "class Mansion(House):\n",
        "    def __init__(self, address, price, number_of_rooms):\n",
        "        super().__init__(address, price)\n",
        "        self.number_of_rooms = number_of_rooms\n",
        "\n",
        "m = Mansion(\"123 Luxury St\", 1000000, 10)\n",
        "print(m.address)\n",
        "print(m.price)\n",
        "print(m.number_of_rooms)"
      ],
      "metadata": {
        "colab": {
          "base_uri": "https://localhost:8080/"
        },
        "id": "wbGMSda1OCOD",
        "outputId": "2435cdfa-13eb-46ae-f819-328aa9c6a7e4"
      },
      "execution_count": 20,
      "outputs": [
        {
          "output_type": "stream",
          "name": "stdout",
          "text": [
            "123 Luxury St\n",
            "1000000\n",
            "10\n"
          ]
        }
      ]
    }
  ]
}