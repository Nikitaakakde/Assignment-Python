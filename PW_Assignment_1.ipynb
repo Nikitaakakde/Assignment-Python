{
  "nbformat": 4,
  "nbformat_minor": 0,
  "metadata": {
    "colab": {
      "provenance": []
    },
    "kernelspec": {
      "name": "python3",
      "display_name": "Python 3"
    },
    "language_info": {
      "name": "python"
    }
  },
  "cells": [
    {
      "cell_type": "markdown",
      "source": [
        "# Python Basics Questions"
      ],
      "metadata": {
        "id": "GHb13Xk9wDBR"
      }
    },
    {
      "cell_type": "markdown",
      "source": [
        "1. What is Python, and why is it popular?\n",
        "\n",
        "Python is a high-level, easy-to-learn programming language. It's popular because of its simple syntax, vast libraries, and wide use in data science, web development, AI, and automation."
      ],
      "metadata": {
        "id": "EprbiBjwwHIO"
      }
    },
    {
      "cell_type": "markdown",
      "source": [
        "2. What is an interpreter in Python?\n",
        "\n",
        "An interpreter in Python reads and executes code line by line. It helps in dynamic execution and makes debugging easier."
      ],
      "metadata": {
        "id": "MwBwdoAZwZ-3"
      }
    },
    {
      "cell_type": "markdown",
      "source": [
        "3. What are pre-defined keywords in Python?\n",
        "\n",
        "Keywords are reserved words in Python that have specific meanings and uses. Examples include if, for, while, class, etc."
      ],
      "metadata": {
        "id": "oVIn-Yl1wh6f"
      }
    },
    {
      "cell_type": "markdown",
      "source": [
        "4. Can keywords be used as variable names?\n",
        "\n",
        "No, Python keywords cannot be used as variable names because they are part of the language syntax.\n"
      ],
      "metadata": {
        "id": "eS8dvgvHwl0n"
      }
    },
    {
      "cell_type": "markdown",
      "source": [
        "5. What is mutability in Python?\n",
        "\n",
        "Mutability means whether a data object can be changed after it's created. Mutable objects can be modified, while immutable ones cannot."
      ],
      "metadata": {
        "id": "-XE0yJpkwos2"
      }
    },
    {
      "cell_type": "markdown",
      "source": [
        "6. Why are lists mutable but tuples are immutable?\n",
        "\n",
        "Lists are mutable to allow dynamic changes like adding or removing elements. Tuples are immutable to maintain fixed, unchangeable data for safety and performance."
      ],
      "metadata": {
        "id": "nK1kjUe0wrVP"
      }
    },
    {
      "cell_type": "markdown",
      "source": [
        "7. What is the difference between “==” and “is” in Python?\n",
        "\n",
        "== checks if values are equal, while is checks if two variables point to the same memory object."
      ],
      "metadata": {
        "id": "OibT6YdowwL_"
      }
    },
    {
      "cell_type": "markdown",
      "source": [
        "8. What are logical operators in Python?\n",
        "\n",
        "Python has three logical operators: and, or, and not. They're used to combine or reverse boolean expressions."
      ],
      "metadata": {
        "id": "Sgxa7qa0wzLG"
      }
    },
    {
      "cell_type": "markdown",
      "source": [
        "9. What is type casting in Python?\n",
        "\n",
        "Type casting is converting one data type to another\n",
        "\n",
        "eg. turning an integer using int(\"5\")"
      ],
      "metadata": {
        "id": "JKVg6T3nw2fW"
      }
    },
    {
      "cell_type": "markdown",
      "source": [
        "10. What is the difference between implicit and explicit type casting?\n",
        "\n",
        "Implicit casting is done automatically by Python, like converting int to float. Explicit casting is done manually using functions like int(), float(), or str()."
      ],
      "metadata": {
        "id": "C9j8_4TfxAdW"
      }
    },
    {
      "cell_type": "markdown",
      "source": [
        "11. What is the purpose of conditional statements in Python?\n",
        "\n",
        "Conditional statements let us run different blocks of code based on conditions using if, elif, and else."
      ],
      "metadata": {
        "id": "R96DvonZxFRn"
      }
    },
    {
      "cell_type": "markdown",
      "source": [
        "12. How does the elif statement work?\n",
        "\n",
        "elif stands for \"else if\" and is used to check multiple conditions after the if condition fails.\n",
        "\n"
      ],
      "metadata": {
        "id": "4R_cQclMxHjO"
      }
    },
    {
      "cell_type": "markdown",
      "source": [
        "13. What is the difference between for and while loops?\n",
        "\n",
        "A for loop runs for a known number of times, while a while loop runs as long as a condition is true."
      ],
      "metadata": {
        "id": "xBUwXl6BxLhW"
      }
    },
    {
      "cell_type": "markdown",
      "source": [
        "14. When is a while loop better than a for loop?\n",
        "\n",
        "A while loop is better when the number of iterations is not known in advance, like waiting for correct user input."
      ],
      "metadata": {
        "id": "DbAzqrh0xNw_"
      }
    },
    {
      "cell_type": "markdown",
      "source": [],
      "metadata": {
        "id": "bCu3Y5uU8Xtk"
      }
    },
    {
      "cell_type": "markdown",
      "source": [
        "#Practical Questions"
      ],
      "metadata": {
        "id": "kVt0qTg4ypjd"
      }
    },
    {
      "cell_type": "markdown",
      "source": [
        "###Q1 Write a Python program to print \"Hello, World."
      ],
      "metadata": {
        "id": "Mc7Xc_Jk3f18"
      }
    },
    {
      "cell_type": "code",
      "source": [
        "# Print \"Hello, World!\"\n",
        "print(\"Hello, World!\")"
      ],
      "metadata": {
        "colab": {
          "base_uri": "https://localhost:8080/"
        },
        "id": "Dg0qmVVmyufn",
        "outputId": "74a6b43a-b6c8-40e2-c674-a04598a232fe"
      },
      "execution_count": 9,
      "outputs": [
        {
          "output_type": "stream",
          "name": "stdout",
          "text": [
            "Hello, World!\n"
          ]
        }
      ]
    },
    {
      "cell_type": "markdown",
      "source": [
        "###Q2 Write a Python program that displays your name and age8"
      ],
      "metadata": {
        "id": "AQK7NJ1X3kiE"
      }
    },
    {
      "cell_type": "code",
      "source": [
        "# Display your name and age\n",
        "name = \"Swaraa\"\n",
        "age = 22\n",
        "print(f\"My name is {name} and I am {age} years old.\")"
      ],
      "metadata": {
        "colab": {
          "base_uri": "https://localhost:8080/"
        },
        "id": "RQ4H845ayxjh",
        "outputId": "3f08286a-1fff-4c96-f0bd-e04bb6251afb"
      },
      "execution_count": 10,
      "outputs": [
        {
          "output_type": "stream",
          "name": "stdout",
          "text": [
            "My name is Swaraa and I am 22 years old.\n"
          ]
        }
      ]
    },
    {
      "cell_type": "markdown",
      "source": [
        "###Q3 Write code to print all the pre-defined keywords in Python using the keyword library"
      ],
      "metadata": {
        "id": "ipwbkUjc3oaF"
      }
    },
    {
      "cell_type": "code",
      "source": [
        "# Print all Python keywords using keyword module\n",
        "import keyword\n",
        "print(\"Python Keywords:\")\n",
        "print(keyword.kwlist)"
      ],
      "metadata": {
        "colab": {
          "base_uri": "https://localhost:8080/"
        },
        "id": "Bj9W56GCy8kc",
        "outputId": "316ff77f-0f68-40b6-a997-ea22306fee71"
      },
      "execution_count": 41,
      "outputs": [
        {
          "output_type": "stream",
          "name": "stdout",
          "text": [
            "Python Keywords:\n",
            "['False', 'None', 'True', 'and', 'as', 'assert', 'async', 'await', 'break', 'class', 'continue', 'def', 'del', 'elif', 'else', 'except', 'finally', 'for', 'from', 'global', 'if', 'import', 'in', 'is', 'lambda', 'nonlocal', 'not', 'or', 'pass', 'raise', 'return', 'try', 'while', 'with', 'yield']\n"
          ]
        }
      ]
    },
    {
      "cell_type": "markdown",
      "source": [
        "###Q4 Write a program that checks if a given word is a Python keyword."
      ],
      "metadata": {
        "id": "42hXqgqR3qP7"
      }
    },
    {
      "cell_type": "code",
      "source": [
        "# Check if a given word is a Python keyword\n",
        "import keyword\n",
        "\n",
        "word = input(\"Enter a word: \")\n",
        "if keyword.iskeyword(word):\n",
        "  print(word, \"is a Python keyword.\")\n",
        "else:\n",
        "  print(word, \"is NOT a Python keyword.\")"
      ],
      "metadata": {
        "colab": {
          "base_uri": "https://localhost:8080/"
        },
        "id": "5kzJcqhezBIZ",
        "outputId": "4cdb51cd-721e-4a99-9d9d-7a354b3e3657"
      },
      "execution_count": 14,
      "outputs": [
        {
          "output_type": "stream",
          "name": "stdout",
          "text": [
            "Enter a word: and\n",
            "and is a Python keyword.\n"
          ]
        }
      ]
    },
    {
      "cell_type": "markdown",
      "source": [
        "###Q5 Create a list and tuple in Python, and demonstrate how attempting to change an element works differently for each."
      ],
      "metadata": {
        "id": "HVxUy4li3sX1"
      }
    },
    {
      "cell_type": "code",
      "source": [
        "#Create a list and tuple in Python, and demonstrate how attempting to change an element works differently for each.\n",
        "my_list = [10, 20, 30,40, 50, 60]\n",
        "my_list[0] = 100\n",
        "print(\"Modified list:\", my_list)"
      ],
      "metadata": {
        "colab": {
          "base_uri": "https://localhost:8080/"
        },
        "id": "G3jwha4NzG76",
        "outputId": "d41a7213-ec47-4ef7-b4f4-3e42519e2e8b"
      },
      "execution_count": 19,
      "outputs": [
        {
          "output_type": "stream",
          "name": "stdout",
          "text": [
            "Modified list: [100, 20, 30, 40, 50, 60]\n"
          ]
        }
      ]
    },
    {
      "cell_type": "markdown",
      "source": [
        "###Q6 Write a function to demonstrate the behavior of mutable and immutable arguments.\n",
        "\n"
      ],
      "metadata": {
        "id": "bGSAb46c3xBX"
      }
    },
    {
      "cell_type": "code",
      "source": [
        "# Mutable list\n",
        "my_list = [1, 2, 3]\n",
        "my_list.append(4)\n",
        "\n",
        "# Immutable tuple\n",
        "my_tuple = (1, 2, 3)\n",
        "# my_tuple.append(4)\n",
        "\n",
        "print(\"List after adding:\", my_list)\n",
        "print(\"Tuple remains same:\", my_tuple)"
      ],
      "metadata": {
        "colab": {
          "base_uri": "https://localhost:8080/"
        },
        "id": "yGmlQNFn28Gi",
        "outputId": "8ee844ce-27e9-4078-e519-859945c5e60e"
      },
      "execution_count": 24,
      "outputs": [
        {
          "output_type": "stream",
          "name": "stdout",
          "text": [
            "List after adding: [1, 2, 3, 4]\n",
            "Tuple remains same: (1, 2, 3)\n"
          ]
        }
      ]
    },
    {
      "cell_type": "markdown",
      "source": [
        "###Q7 Write a program that performs basic arithmetic operations on two user-input numbers."
      ],
      "metadata": {
        "id": "447F4nxZ5Ddt"
      }
    },
    {
      "cell_type": "code",
      "source": [
        "a = int(input(\"Enter first number: \"))\n",
        "b = int(input(\"Enter second number: \"))\n",
        "\n",
        "print(\"Addition:\", a + b)\n",
        "print(\"Subtraction:\", a - b)\n",
        "print(\"Multiplication:\", a * b)\n",
        "print(\"Division:\", a / b)"
      ],
      "metadata": {
        "colab": {
          "base_uri": "https://localhost:8080/"
        },
        "id": "UYQ4T3MD3-qK",
        "outputId": "5f8daa17-6ba3-44e3-c21d-ddaa47dc5745"
      },
      "execution_count": 25,
      "outputs": [
        {
          "output_type": "stream",
          "name": "stdout",
          "text": [
            "Enter first number: 2\n",
            "Enter second number: 5\n",
            "Addition: 7\n",
            "Subtraction: -3\n",
            "Multiplication: 10\n",
            "Division: 0.4\n"
          ]
        }
      ]
    },
    {
      "cell_type": "markdown",
      "source": [
        "###Q8  Write a program to demonstrate the use of logical operators."
      ],
      "metadata": {
        "id": "q2CgTsh15Se1"
      }
    },
    {
      "cell_type": "code",
      "source": [
        "a = True\n",
        "b = False\n",
        "\n",
        "print(\"a and b:\", a and b)\n",
        "print(\"a or b:\", a or b)\n",
        "print(\"not a:\", not a)"
      ],
      "metadata": {
        "colab": {
          "base_uri": "https://localhost:8080/"
        },
        "id": "OEcp4KDq5QY1",
        "outputId": "45289525-1ea2-4cc2-8280-47aadc290a4d"
      },
      "execution_count": 26,
      "outputs": [
        {
          "output_type": "stream",
          "name": "stdout",
          "text": [
            "a and b: False\n",
            "a or b: True\n",
            "not a: False\n"
          ]
        }
      ]
    },
    {
      "cell_type": "markdown",
      "source": [
        "###Q9  Write a Python program to convert user input from string to integer, float, and boolean types."
      ],
      "metadata": {
        "id": "llyWRf_j51ec"
      }
    },
    {
      "cell_type": "code",
      "source": [
        "value = input(\"Enter something: \")\n",
        "\n",
        "int_value = int(value)\n",
        "float_value = float(value)\n",
        "bool_value = bool(value)\n",
        "\n",
        "print(\"Integer:\", int_value)\n",
        "print(\"Float:\", float_value)\n",
        "print(\"Boolean:\", bool_value)"
      ],
      "metadata": {
        "colab": {
          "base_uri": "https://localhost:8080/"
        },
        "id": "Lkysllxz5zQ9",
        "outputId": "87215062-c221-4458-9cc2-6f4f9289408d"
      },
      "execution_count": 28,
      "outputs": [
        {
          "output_type": "stream",
          "name": "stdout",
          "text": [
            "Enter something: 85\n",
            "Integer: 85\n",
            "Float: 85.0\n",
            "Boolean: True\n"
          ]
        }
      ]
    },
    {
      "cell_type": "markdown",
      "source": [
        "###Q10 Write code to demonstrate type casting with list elements."
      ],
      "metadata": {
        "id": "MTGqasud6B2c"
      }
    },
    {
      "cell_type": "code",
      "source": [
        "string_list = [\"10\", \"20\", \"30\"]\n",
        "\n",
        "int_list = [int(x) for x in string_list]\n",
        "\n",
        "print(\"After casting:\", int_list)"
      ],
      "metadata": {
        "colab": {
          "base_uri": "https://localhost:8080/"
        },
        "id": "3hxLsnZ2567y",
        "outputId": "b01ce64b-f949-4298-f6cd-91d6e8b938cb"
      },
      "execution_count": 32,
      "outputs": [
        {
          "output_type": "stream",
          "name": "stdout",
          "text": [
            "After casting: [10, 20, 30]\n"
          ]
        }
      ]
    },
    {
      "cell_type": "markdown",
      "source": [
        "###Q11  Write a program that checks if a number is positive, negative, or zero."
      ],
      "metadata": {
        "id": "liWN9ooC65S8"
      }
    },
    {
      "cell_type": "code",
      "source": [
        "num = float(input(\"Enter a number: \"))\n",
        "\n",
        "if num > 0:\n",
        "  print(\"The number is positive.\")\n",
        "elif num < 0:\n",
        "  print(\"The number is negative.\")\n",
        "else:\n",
        "  print(\"The number is zero.\")"
      ],
      "metadata": {
        "colab": {
          "base_uri": "https://localhost:8080/"
        },
        "id": "xqePR-cq6L4N",
        "outputId": "7451f64d-83cd-4daa-c7c2-0026fc18d8d2"
      },
      "execution_count": 33,
      "outputs": [
        {
          "output_type": "stream",
          "name": "stdout",
          "text": [
            "Enter a number: 4\n",
            "The number is positive.\n"
          ]
        }
      ]
    },
    {
      "cell_type": "markdown",
      "source": [
        "###Q12 Write a for loop to print numbers from 1 to 10.\n",
        "\n",
        "```\n",
        "# This is formatted as code\n",
        "```\n",
        "\n"
      ],
      "metadata": {
        "id": "dhejFGKH7GDc"
      }
    },
    {
      "cell_type": "code",
      "source": [
        "for i in range(1,11):\n",
        "  print(i)"
      ],
      "metadata": {
        "colab": {
          "base_uri": "https://localhost:8080/"
        },
        "id": "9mjcQOjq7CMe",
        "outputId": "33a2ebab-061d-492c-dfd0-9f0a58c27136"
      },
      "execution_count": 37,
      "outputs": [
        {
          "output_type": "stream",
          "name": "stdout",
          "text": [
            "1\n",
            "2\n",
            "3\n",
            "4\n",
            "5\n",
            "6\n",
            "7\n",
            "8\n",
            "9\n",
            "10\n"
          ]
        }
      ]
    },
    {
      "cell_type": "markdown",
      "source": [
        "###Q13  Write a Python program to find the sum of all even numbers between 1 and 50."
      ],
      "metadata": {
        "id": "UgGlr-Hq7WP7"
      }
    },
    {
      "cell_type": "code",
      "source": [
        "total = 0\n",
        "\n",
        "for i in range(2, 51, 2):\n",
        "  total += i\n",
        "\n",
        "print(\"Sum of even numbers from 1 to 50 is:\", total)"
      ],
      "metadata": {
        "colab": {
          "base_uri": "https://localhost:8080/"
        },
        "id": "YAJYVhJl7M31",
        "outputId": "ba453e67-f66b-4323-9ae4-84a9c038b366"
      },
      "execution_count": 38,
      "outputs": [
        {
          "output_type": "stream",
          "name": "stdout",
          "text": [
            "Sum of even numbers from 1 to 50 is: 650\n"
          ]
        }
      ]
    },
    {
      "cell_type": "markdown",
      "source": [
        "###Q14  Write a program to reverse a string using a while loop."
      ],
      "metadata": {
        "id": "Quvv9LDt7rrs"
      }
    },
    {
      "cell_type": "code",
      "source": [
        "text = input(\"Enter a string: \")\n",
        "\n",
        "reversed_text = \" \"\n",
        "i = len(text) - 1\n",
        "\n",
        "while i >= 0:\n",
        "  reversed_text += text[i]\n",
        "  i -= 1\n",
        "\n",
        "print(\"Reversed string:\", reversed_text)"
      ],
      "metadata": {
        "colab": {
          "base_uri": "https://localhost:8080/"
        },
        "id": "s-EQdq2b7pEF",
        "outputId": "0d7c43bb-d68d-4c69-e4c1-d07abf48b1bc"
      },
      "execution_count": 39,
      "outputs": [
        {
          "output_type": "stream",
          "name": "stdout",
          "text": [
            "Enter a string: 123456\n",
            "Reversed string:  654321\n"
          ]
        }
      ]
    },
    {
      "cell_type": "markdown",
      "source": [
        "###Q15 Write a Python program to calculate the factorial of a number provided by the user using a while loop."
      ],
      "metadata": {
        "id": "bojhLtZr72OE"
      }
    },
    {
      "cell_type": "code",
      "source": [
        "num = int(input(\"Enter a number: \"))\n",
        "\n",
        "factorial = 1\n",
        "i = 1\n",
        "\n",
        "while i <= num:\n",
        "  factorial *= i\n",
        "  i += 1\n",
        "\n",
        "print(\"Factorial of\", num, \"is:\", factorial)"
      ],
      "metadata": {
        "colab": {
          "base_uri": "https://localhost:8080/"
        },
        "id": "sulhnmJR76yl",
        "outputId": "f4f1ac0a-59f5-4f62-fc02-3f91d9ebee9c"
      },
      "execution_count": 40,
      "outputs": [
        {
          "output_type": "stream",
          "name": "stdout",
          "text": [
            "Enter a number: 5\n",
            "Factorial of 5 is: 120\n"
          ]
        }
      ]
    }
  ]
}