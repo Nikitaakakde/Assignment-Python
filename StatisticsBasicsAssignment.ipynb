{
  "nbformat": 4,
  "nbformat_minor": 0,
  "metadata": {
    "colab": {
      "provenance": []
    },
    "kernelspec": {
      "name": "python3",
      "display_name": "Python 3"
    },
    "language_info": {
      "name": "python"
    }
  },
  "cells": [
    {
      "cell_type": "markdown",
      "source": [
        "## Question 1: What is the difference between descriptive statistics and inferential statistics? Explain with examples.\n",
        "\n",
        "Answer:\n",
        "\n",
        "\n",
        "Descriptive Statistics\n",
        "\n",
        "1.\tIt is the branch of statistics that describes and summarizes data in a simple, understandable form.\n",
        "2.\tIt organizes, simplifies, and presents data without making any predictions.\n",
        "3.\tIt is limited to the collected data only and does not go beyond it.\n",
        "4.\tIt uses measures like mean, median, mode, range, standard deviation, and visual tools like graphs, pie charts, bar diagrams, and tables.\n",
        "5.\tIt only tells what is happening in the data, not why or what will happen.\n",
        "6.\tA teacher calculates that the average score of her class of 50 students is 72 marks. This is just describing the data she has.\n",
        "\n",
        "Inferential Statistics\n",
        "\n",
        "1.\tIt is the branch of statistics that draws conclusions, predictions, or generalizations about a larger population using a sample of data.\n",
        "2.\tIt helps to make decisions, test hypotheses, and forecast results for the whole population.\n",
        "3.\tIt goes beyond the available data and involves probability.\n",
        "4.\tIt uses methods like hypothesis testing, confidence intervals, regression, correlation, and probability models.\n",
        "5.\tIt tells what may be true for the population or what might happen in the future.\n",
        "6.\tFrom a survey of 100 students, we predict that the average marks of all students in the school lie between 70–74 marks.\n",
        "\n"
      ],
      "metadata": {
        "id": "Gq7mti5DvmVg"
      }
    },
    {
      "cell_type": "markdown",
      "source": [
        "##Question 2: What is sampling in statistics? Explain the differences between random and stratified sampling.\n",
        "Answer:\n",
        "\n",
        "\n",
        "Sampling in Statistics\n",
        "\n",
        "Sampling is the process of selecting a part of the population (sample) to study and draw conclusions about the whole population. Since studying every individual in a population is often difficult, time-consuming, and costly, sampling is used to save effort and resources while still giving reliable results\n",
        "\n",
        "Random Sampling\n",
        "\n",
        "1.\tEvery individual in the population has an equal chance of being selected.\n",
        "2.\tSelection is completely by chance, without any grouping.\n",
        "3.\tSimple to use and avoids personal bias.\n",
        "4.\tExample: Picking 100 students randomly from a school list of 1000 students.\n",
        "\n",
        "Stratified Sampling\n",
        "\n",
        "1.\tThe population is divided into groups (called strata) based on some characteristic like gender, age, income, etc.\n",
        "2.\tThen, samples are taken proportionally from each group.\n",
        "3.\tEnsures that all groups are represented properly.\n",
        "4.\tExample: If a school has 60% boys and 40% girls, and we take a sample of 100 students, then 60 boys and 40 girls are selected\n",
        "\n"
      ],
      "metadata": {
        "id": "BZ6_RtSvvw92"
      }
    },
    {
      "cell_type": "markdown",
      "source": [
        "##Question 3: Define mean, median, and mode. Explain why these measures of central tendency are important.\n",
        "Answer:\n",
        "\n",
        "\n",
        "Mean\n",
        "\n",
        "Mean is the average of all observations.\n",
        "It is found by adding all values and dividing by the number of values.\n",
        "Example: For 10, 20, 30 → Mean = (10+20+30)/3 = 20.\n",
        "\n",
        "Median\n",
        "\n",
        "Median is the middle value when all data is arranged in order (ascending or descending).\n",
        "If there are two middle values, the median is the average of those two.\n",
        "Example: For 10, 20, 30, 40, 50 → Median = 30.\n",
        "\n",
        "Mode\n",
        "\n",
        "Mode is the value that occurs most frequently in the data set.\n",
        "A data set can have one mode, more than one mode, or no mode.\n",
        "Example: For 2, 4, 4, 6, 7 → Mode = 4.\n",
        "\n",
        "Importance of Mean, Median, and Mode\n",
        "\n",
        "1.\tThey are called measures of central tendency because they show the “central value” or “typical value” of data.\n",
        "2.\tThey help to summarize large data into a single representative figure.\n",
        "3.\tThey are useful in comparison between different groups or datasets.\n",
        "4.\tThey are widely used in business, economics, education, research, and daily life for decision making.\n",
        "\n"
      ],
      "metadata": {
        "id": "rIYdCx8svtM2"
      }
    },
    {
      "cell_type": "markdown",
      "source": [
        "##Question 4: Explain skewness and kurtosis. What does a positive skew imply about the data?\n",
        "Answer:\n",
        "\n",
        "\n",
        "Skewness\n",
        "\n",
        "Skewness tells us about the asymmetry of a distribution (whether data is spread more to the left or right).\n",
        "If data is perfectly symmetrical, skewness = 0.\n",
        "\n",
        "Types:\n",
        "\n",
        "Positive skew (Right skewed) → Tail is longer on the right side, most values are on the left.\n",
        "Negative skew (Left skewed) → Tail is longer on the left side, most values are on the right.\n",
        "\n",
        "Kurtosis\n",
        "\n",
        "Kurtosis tells us about the peakedness or flatness of a distribution compared to a normal distribution.\n",
        "High kurtosis = sharper peak and fatter tails (more extreme values).\n",
        "Low kurtosis = flatter peak and thinner tails (fewer extreme values).\n",
        "\n",
        "Positive Skew Meaning\n",
        "\n",
        "1.\tIn a positively skewed distribution, the tail is stretched to the right.\n",
        "2.\tThe mean is usually greater than the median.\n",
        "3.\tIt shows that a majority of values are small, but there are a few very large values pulling the tail to the right.\n",
        "4.\tExample: Income distribution in a country → most people earn low to moderate income, but a few earn very high income.\n",
        "\n"
      ],
      "metadata": {
        "id": "NuqaxlU1v-N_"
      }
    },
    {
      "cell_type": "markdown",
      "source": [
        "##Question 5: Implement a Python program to compute the mean, median, and mode of a given list of numbers.\n",
        "\n",
        "numbers = [12, 15, 12, 18, 19, 12, 20, 22, 19, 19, 24, 24, 24, 26, 28]\n",
        "\n",
        "\n",
        "Answer:\n",
        "\n",
        "\n",
        "\n"
      ],
      "metadata": {
        "id": "MPZjZDmYwEpX"
      }
    },
    {
      "cell_type": "code",
      "source": [
        "# Python program to compute mean, median, and mode\n",
        "\n",
        "import statistics as stats\n",
        "\n",
        "numbers = [12, 15, 12, 18, 19, 12, 20, 22, 19, 19, 24, 24, 24, 26, 28]\n",
        "\n",
        "mean_value = stats.mean(numbers)\n",
        "median_value = stats.median(numbers)\n",
        "mode_value = stats.mode(numbers)\n",
        "\n",
        "print(\"Mean:\", mean_value)\n",
        "print(\"Median:\", median_value)\n",
        "print(\"Mode:\", mode_value)"
      ],
      "metadata": {
        "colab": {
          "base_uri": "https://localhost:8080/"
        },
        "id": "nJa_dMVhwMvX",
        "outputId": "b3d50c31-c715-412a-a964-fd55ac3d78cb"
      },
      "execution_count": 1,
      "outputs": [
        {
          "output_type": "stream",
          "name": "stdout",
          "text": [
            "Mean: 19.6\n",
            "Median: 19\n",
            "Mode: 12\n"
          ]
        }
      ]
    },
    {
      "cell_type": "markdown",
      "source": [
        "##Question 6: Compute the covariance and correlation coefficient between the following two datasets provided as lists in Python:\n",
        "\n",
        "list_x = [10, 20, 30, 40, 50]\n",
        "list_y = [15, 25, 35, 45, 60]\n",
        "\n",
        "\n",
        "Answer:\n"
      ],
      "metadata": {
        "id": "UmoHqok7wSnv"
      }
    },
    {
      "cell_type": "code",
      "source": [
        "import numpy as np\n",
        "\n",
        "# Given lists\n",
        "list_x = [10, 20, 30, 40, 50]\n",
        "list_y = [15, 25, 35, 45, 60]\n",
        "\n",
        "cov_matrix = np.cov(list_x, list_y, ddof=0)\n",
        "cov_xy = cov_matrix[0, 1]\n",
        "\n",
        "corr_xy = np.corrcoef(list_x, list_y)[0, 1]\n",
        "\n",
        "print(\"Covariance:\", cov_xy)\n",
        "print(\"Correlation Coefficient:\", corr_xy)"
      ],
      "metadata": {
        "colab": {
          "base_uri": "https://localhost:8080/"
        },
        "id": "1uc_5CDSwYyv",
        "outputId": "bd24a835-b0a9-4b1f-ee5c-b852d998fdea"
      },
      "execution_count": 5,
      "outputs": [
        {
          "output_type": "stream",
          "name": "stdout",
          "text": [
            "Covariance: 220.0\n",
            "Correlation Coefficient: 0.995893206467704\n"
          ]
        }
      ]
    },
    {
      "cell_type": "markdown",
      "source": [
        "##Question 7: Write a Python script to draw a boxplot for the following numeric list and identify its outliers. Explain the result:\n",
        "\n",
        "data = [12, 14, 14, 15, 18, 19, 19, 21, 22, 22, 23, 23, 24, 26, 29, 35]\n",
        "\n",
        "\n",
        "Answer:\n"
      ],
      "metadata": {
        "id": "qSPO1UjIwfow"
      }
    },
    {
      "cell_type": "code",
      "source": [
        "import numpy as np\n",
        "\n",
        "data = [12, 14, 14, 15, 18, 19, 19, 21, 22, 22, 23, 23, 24, 26, 29, 35]\n",
        "\n",
        "Q1 = np.percentile(data, 25)\n",
        "Q3 = np.percentile(data, 75)\n",
        "IQR = Q3 - Q1\n",
        "\n",
        "lower_bound = Q1 - 1.5 * IQR\n",
        "upper_bound = Q3 + 1.5 * IQR\n",
        "\n",
        "outliers = [x for x in data if x < lower_bound or x > upper_bound]\n",
        "\n",
        "print(\"Q1:\", Q1)\n",
        "print(\"Q3:\", Q3)\n",
        "print(\"IQR:\", IQR)\n",
        "print(\"Lower Bound:\", lower_bound)\n",
        "print(\"Upper Bound:\", upper_bound)\n",
        "print(\"Outliers:\", outliers)"
      ],
      "metadata": {
        "colab": {
          "base_uri": "https://localhost:8080/"
        },
        "id": "rDOYUupUwmFO",
        "outputId": "48faa460-2700-44db-c0ea-f658e9e843de"
      },
      "execution_count": 6,
      "outputs": [
        {
          "output_type": "stream",
          "name": "stdout",
          "text": [
            "Q1: 17.25\n",
            "Q3: 23.25\n",
            "IQR: 6.0\n",
            "Lower Bound: 8.25\n",
            "Upper Bound: 32.25\n",
            "Outliers: [35]\n"
          ]
        }
      ]
    },
    {
      "cell_type": "markdown",
      "source": [
        "##Question 8: You are working as a data analyst in an e-commerce company. The marketing team wants to know if there is a relationship between advertising spend and daily sales.\n",
        "●\tExplain how you would use covariance and correlation to explore this relationship.\n",
        "●\tWrite Python code to compute the correlation between the two lists:\n",
        "\n",
        "advertising_spend = [200, 250, 300, 400, 500]\n",
        "\n",
        "daily_sales = [2200, 2450, 2750, 3200, 4000]\n",
        "\n",
        "\n",
        "Answer:\n",
        "\n",
        "Covariance tells us whether the two variables move in the same direction or not.\n",
        "\n",
        "1.\tPositive covariance → when advertising spend increases, sales also increase.\n",
        "2.\tNegative covariance → when advertising spend increases, sales decrease.\n",
        "3.\tThe limitation: it does not show the strength of the relationship.\n",
        "4.\n",
        "Correlation standardizes covariance to a scale between -1 and +1.\n",
        "\n",
        "1.\t+1 → perfect positive relationship.\n",
        "2.\t-1 → perfect negative relationship.\n",
        "3.\t0 → no linear relationship.\n",
        "4.\tThis helps us measure both the direction and strength of the relationship between advertising spend and sales.\n",
        "\n",
        "\n",
        "Interpretation:\n",
        "\n",
        "1.\tThe correlation coefficient is 0.991, which is very close to +1.\n",
        "2.\tThis shows a strong positive relationship between advertising spend and daily sales.\n",
        "3.\tMeaning → as the company spends more on advertising, sales increase significantly.\n",
        "\n"
      ],
      "metadata": {
        "id": "iESBw17Kwtp2"
      }
    },
    {
      "cell_type": "code",
      "source": [
        "import numpy as np\n",
        "\n",
        "# Data\n",
        "advertising_spend = [200, 250, 300, 400, 500]\n",
        "daily_sales = [2200, 2450, 2750, 3200, 4000]\n",
        "\n",
        "# Compute correlation matrix\n",
        "correlation = np.corrcoef(advertising_spend, daily_sales)\n",
        "\n",
        "print(\"Correlation Coefficient:\", correlation[0,1])\n"
      ],
      "metadata": {
        "colab": {
          "base_uri": "https://localhost:8080/"
        },
        "id": "94XakERHwpAg",
        "outputId": "69fed13c-e07c-4269-e1c8-c07d1db35be1"
      },
      "execution_count": 7,
      "outputs": [
        {
          "output_type": "stream",
          "name": "stdout",
          "text": [
            "Correlation Coefficient: 0.9935824101653329\n"
          ]
        }
      ]
    },
    {
      "cell_type": "markdown",
      "source": [
        "##Question 9: Your team has collected customer satisfaction survey data on a scale of 1-10 and wants to understand its distribution before launching a new product.\n",
        "●\tExplain which summary statistics and visualizations (e.g. mean, standard deviation, histogram) you’d use.\n",
        "●\tWrite Python code to create a histogram using Matplotlib for the survey data:\n",
        "\n",
        "survey_scores = [7, 8, 5, 9, 6, 7, 8, 9, 10, 4, 7, 6, 9, 8, 7]\n",
        "\n",
        "Answer:\n",
        "\n",
        "To understand the distribution of customer satisfaction survey data (scale 1–10):\n",
        "\n",
        "•\tSummary Statistics to use:\n",
        "o\tMean → average satisfaction score.\n",
        "o\tMedian → middle score, useful if the data is skewed.\n",
        "o\tMode → most common satisfaction score.\n",
        "o\tStandard Deviation (SD) → how spread out the scores are.\n",
        "o\tMinimum & Maximum → range of scores.\n",
        "•\tVisualizations to use:\n",
        "o\tHistogram → shows frequency distribution of survey scores.\n",
        "o\tBoxplot → highlights median, spread, and outliers.\n",
        "o\tThese help identify whether scores are clustered or widely spread.\n",
        "\n",
        "\n",
        "\n"
      ],
      "metadata": {
        "id": "Oeo5Dy5Pw7tI"
      }
    },
    {
      "cell_type": "code",
      "source": [
        "# Data\n",
        "survey_scores = [7, 8, 5, 9, 6, 7, 8, 9, 10, 4, 7, 6, 9, 8, 7]\n",
        "\n",
        "import statistics as stats\n",
        "import matplotlib.pyplot as plt\n",
        "\n",
        "# Summary Statistics\n",
        "print(\"Mean:\", stats.mean(survey_scores))\n",
        "print(\"Median:\", stats.median(survey_scores))\n",
        "print(\"Mode:\", stats.mode(survey_scores))\n",
        "print(\"Standard Deviation:\", stats.pstdev(survey_scores))\n",
        "print(\"Min:\", min(survey_scores))\n",
        "print(\"Max:\", max(survey_scores))\n",
        "\n",
        "# Histogram\n",
        "plt.hist(survey_scores, bins=6, edgecolor='black', alpha=0.7)\n",
        "plt.title(\"Histogram of Customer Satisfaction Scores\")\n",
        "plt.xlabel(\"Survey Scores (1-10)\")\n",
        "plt.ylabel(\"Frequency\")\n",
        "plt.show()"
      ],
      "metadata": {
        "colab": {
          "base_uri": "https://localhost:8080/",
          "height": 576
        },
        "id": "utApQ7VOxFPu",
        "outputId": "538a9b1a-0242-4948-e89e-7f7de31dbbd0"
      },
      "execution_count": 9,
      "outputs": [
        {
          "output_type": "stream",
          "name": "stdout",
          "text": [
            "Mean: 7.333333333333333\n",
            "Median: 7\n",
            "Mode: 7\n",
            "Standard Deviation: 1.5776212754932308\n",
            "Min: 4\n",
            "Max: 10\n"
          ]
        },
        {
          "output_type": "display_data",
          "data": {
            "text/plain": [
              "<Figure size 640x480 with 1 Axes>"
            ],
            "image/png": "[encoded data removed]"
          },
          "metadata": {}
        }
      ]
    }
  ]
}