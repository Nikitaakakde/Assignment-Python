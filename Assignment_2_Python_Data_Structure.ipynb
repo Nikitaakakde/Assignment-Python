{
  "nbformat": 4,
  "nbformat_minor": 0,
  "metadata": {
    "colab": {
      "provenance": []
    },
    "kernelspec": {
      "name": "python3",
      "display_name": "Python 3"
    },
    "language_info": {
      "name": "python"
    }
  },
  "cells": [
    {
      "cell_type": "markdown",
      "source": [
        "#Data Types and Structures Questions"
      ],
      "metadata": {
        "id": "U_Po86NSlvm1"
      }
    },
    {
      "cell_type": "markdown",
      "source": [
        "1. What are data structures, and why are they important?\n",
        "\n",
        "Data structures are formats used to store and organize data efficiently. They are essential because they allow fast data access, insertion, deletion, and manipulation, making code more optimized and readable."
      ],
      "metadata": {
        "id": "dgpMVqAYlyEc"
      }
    },
    {
      "cell_type": "markdown",
      "source": [
        "2. Explain the difference between mutable and immutable data types with examples\n",
        "\n",
        "Mutable data types can be changed after creation. Examples: list, dict, set.\n",
        "Immutable data types cannot be modified once created. Examples: tuple, str, int."
      ],
      "metadata": {
        "id": "XXBzPO1cncZt"
      }
    },
    {
      "cell_type": "markdown",
      "source": [
        "3. What are the main differences between lists and tuples in Python\n",
        "\n",
        "In Python, lists are mutable, meaning their elements can be modified after creation, while tuples are immutable and cannot be changed once defined.\n",
        "\n",
        "Lists use square brackets [ ], whereas tuples use parentheses ( ). Due to immutability, tuples are generally faster and used when fixed data is needed."
      ],
      "metadata": {
        "id": "vWrvnx6zn-hE"
      }
    },
    {
      "cell_type": "markdown",
      "source": [
        "4. Describe how dictionaries store data\n",
        "\n",
        "A dictionary in Python stores data as key-value pairs using a hash table. Each unique key maps to a value, allowing quick data retrieval, insertion, and deletion."
      ],
      "metadata": {
        "id": "jnHbpVodoZtM"
      }
    },
    {
      "cell_type": "markdown",
      "source": [
        "5. Why might you use a set instead of a list in Python\n",
        "\n",
        "we might use a set instead of a list when you need to store only unique elements and perform fast membership tests. Sets automatically remove duplicates and offer better performance for checking existence"
      ],
      "metadata": {
        "id": "qMp018Zkoorr"
      }
    },
    {
      "cell_type": "markdown",
      "source": [
        "6. What is a string in Python, and how is it different from a list\n",
        "\n",
        "A string in Python is a sequence of characters enclosed in quotes and is immutable. Unlike lists, which can hold different data types and be modified, strings can only hold characters and cannot be changed after creation."
      ],
      "metadata": {
        "id": "HS-coZRVo6tj"
      }
    },
    {
      "cell_type": "markdown",
      "source": [
        "7. How do tuples ensure data integrity in Python\n",
        "\n",
        "Tuples ensure data integrity by being immutable, meaning their elements cannot be changed after creation. This prevents accidental modifications and makes them suitable for storing constant or fixed data."
      ],
      "metadata": {
        "id": "qRc1XdsZpAfM"
      }
    },
    {
      "cell_type": "markdown",
      "source": [
        "8. What is a hash table, and how does it relate to dictionaries in Python\n",
        "\n",
        "A hash table is a data structure that maps keys to values using a hash function for fast access. In Python, dictionaries are implemented using hash tables to efficiently store and retrieve key-value pairs."
      ],
      "metadata": {
        "id": "TQt9Q9OJpGZ7"
      }
    },
    {
      "cell_type": "markdown",
      "source": [
        "9. Can lists contain different data types in Python\n",
        "\n",
        "Yes, lists in Python can contain different data types such as integers, strings, floats, or even other lists. This makes them flexible for storing mixed data in a single collection."
      ],
      "metadata": {
        "id": "RqLLS1dNpMS7"
      }
    },
    {
      "cell_type": "markdown",
      "source": [
        "10. Explain why strings are immutable in Python\n",
        "\n",
        "Strings are immutable in Python to ensure memory efficiency and security, as they are often used as keys in dictionaries. This immutability also allows safe sharing and consistent behavior across programs."
      ],
      "metadata": {
        "id": "LGw7ZAq2pgA0"
      }
    },
    {
      "cell_type": "markdown",
      "source": [
        "11. What advantages do dictionaries offer over lists for certain tasks\n",
        "\n",
        "Dictionaries provide faster data lookup using unique keys, making them ideal for tasks like mapping and searching. They offer better performance than lists when accessing elements by identifier instead of position.\n",
        "\n",
        "\n",
        "\n",
        "\n",
        "\n",
        "\n"
      ],
      "metadata": {
        "id": "vnFHdQoRpmoU"
      }
    },
    {
      "cell_type": "markdown",
      "source": [
        "12. Describe a scenario where using a tuple would be preferable over a list\n",
        "\n",
        "A tuple is preferable when storing fixed data that should not change, like days of the week or coordinates. It ensures data remains constant and is also faster and more memory-efficient than a list."
      ],
      "metadata": {
        "id": "Hcl_8lh-psUL"
      }
    },
    {
      "cell_type": "markdown",
      "source": [
        "13. How do sets handle duplicate values in Python\n",
        "\n",
        "Sets automatically remove duplicate values, storing only unique elements. When duplicates are added, sets keep just one instance, ensuring all items remain distinct."
      ],
      "metadata": {
        "id": "_EIRit7UpznL"
      }
    },
    {
      "cell_type": "markdown",
      "source": [
        "14. How does the “in” keyword work differently for lists and dictionaries\n",
        "\n",
        "In lists, the in keyword checks if a value exists anywhere in the list by scanning elements.\n",
        "In dictionaries, it checks if a key exists, making the lookup faster due to the underlying hash table."
      ],
      "metadata": {
        "id": "CKTSjzo9p39K"
      }
    },
    {
      "cell_type": "markdown",
      "source": [
        "15. Can you modify the elements of a tuple? Explain why or why not\n",
        "\n",
        "No, you cannot modify elements of a tuple because tuples are immutable. This immutability ensures their contents remain constant after creation, preventing accidental changes."
      ],
      "metadata": {
        "id": "d8iNeDJFp-ly"
      }
    },
    {
      "cell_type": "markdown",
      "source": [
        "16. What is a nested dictionary, and give an example of its use case\n",
        "\n",
        "A nested dictionary is a dictionary where values themselves are dictionaries, allowing hierarchical data storage. It’s useful for representing complex data like a student’s records with subjects and their scores.\n"
      ],
      "metadata": {
        "id": "XLduKD5nqExq"
      }
    },
    {
      "cell_type": "markdown",
      "source": [
        "17. Describe the time complexity of accessing elements in a dictionary\n",
        "\n",
        "Accessing elements in a dictionary usually takes constant time, O(1), thanks to hashing. In rare cases with many hash collisions, it can slow to O(n). Overall, dictionary lookups are very fast and efficient."
      ],
      "metadata": {
        "id": "mDr88_-qqYfz"
      }
    },
    {
      "cell_type": "markdown",
      "source": [
        "18. In what situations are lists preferred over dictionaries\n",
        "\n",
        "Lists are preferred when you need an ordered collection or want to store items by position. They work well for simple sequences, iteration, or when duplicates are allowed. Dictionaries are better for key-based access, but lists are simpler for indexed data."
      ],
      "metadata": {
        "id": "ARRjzSnUqowq"
      }
    },
    {
      "cell_type": "markdown",
      "source": [
        "19. Why are dictionaries considered unordered, and how does that affect data retrieval\n",
        "\n",
        "Dictionaries in Python versions before 3.7 are unordered, meaning they don’t keep items in a specific order. This means you can’t rely on the order of keys when retrieving data, but access by key is still fast and reliable."
      ],
      "metadata": {
        "id": "_-SGhD5Iqtt7"
      }
    },
    {
      "cell_type": "markdown",
      "source": [
        "20. Explain the difference between a list and a dictionary in terms of data retrieval\n",
        "\n",
        "Lists retrieve data by position (index), so you access items based on their order. Dictionaries retrieve data by keys, allowing faster and direct access without knowing the item’s position."
      ],
      "metadata": {
        "id": "Z5VoN3Jbq0jb"
      }
    },
    {
      "cell_type": "markdown",
      "source": [
        "#Practical Questions"
      ],
      "metadata": {
        "id": "IqU_Unlhq8fm"
      }
    },
    {
      "cell_type": "markdown",
      "source": [
        "####Q1: Write a code to create a string with your name and print it"
      ],
      "metadata": {
        "id": "prWxhVD6rBKy"
      }
    },
    {
      "cell_type": "code",
      "source": [
        "name = \"Nikita\"\n",
        "print(name)"
      ],
      "metadata": {
        "colab": {
          "base_uri": "https://localhost:8080/"
        },
        "id": "wpYtcclmrMH_",
        "outputId": "c728de65-ae58-4c4e-fc46-f6383c5d11ae"
      },
      "execution_count": 2,
      "outputs": [
        {
          "output_type": "stream",
          "name": "stdout",
          "text": [
            "Nikita\n"
          ]
        }
      ]
    },
    {
      "cell_type": "markdown",
      "source": [
        "####Q2: Write a code to find the length of the string \"Hello World\""
      ],
      "metadata": {
        "id": "vBp1Ter8rakj"
      }
    },
    {
      "cell_type": "code",
      "source": [
        "tet = \"Hello World\"\n",
        "length = len(tet)\n",
        "print(length)"
      ],
      "metadata": {
        "colab": {
          "base_uri": "https://localhost:8080/"
        },
        "id": "WjN2sD71rdAL",
        "outputId": "c51fc878-97f3-478e-d142-f3312bc2aaa4"
      },
      "execution_count": 4,
      "outputs": [
        {
          "output_type": "stream",
          "name": "stdout",
          "text": [
            "11\n"
          ]
        }
      ]
    },
    {
      "cell_type": "markdown",
      "source": [
        "####Q3: Write a code to slice the first 3 characters from the string \"Python Programming\""
      ],
      "metadata": {
        "id": "lYx3CtWyrj7C"
      }
    },
    {
      "cell_type": "code",
      "source": [
        "text = \"Python Programming\"\n",
        "slice_text = text[:3]\n",
        "print(slice_text)"
      ],
      "metadata": {
        "colab": {
          "base_uri": "https://localhost:8080/"
        },
        "id": "aj4H1gnpreWe",
        "outputId": "5a21cefd-94d7-46a6-eacb-fc188d1ba989"
      },
      "execution_count": 5,
      "outputs": [
        {
          "output_type": "stream",
          "name": "stdout",
          "text": [
            "Pyt\n"
          ]
        }
      ]
    },
    {
      "cell_type": "markdown",
      "source": [
        "####Q4: Write a code to convert the string \"hello\" to uppercase"
      ],
      "metadata": {
        "id": "GLD7tUbDrtR-"
      }
    },
    {
      "cell_type": "code",
      "source": [
        "text = \"hello\"\n",
        "uppercase_text = text.upper()\n",
        "print(uppercase_text)"
      ],
      "metadata": {
        "colab": {
          "base_uri": "https://localhost:8080/"
        },
        "id": "O-C0mipArrhL",
        "outputId": "d1ce694b-8cd6-4c0f-9394-f4e07514e03e"
      },
      "execution_count": 6,
      "outputs": [
        {
          "output_type": "stream",
          "name": "stdout",
          "text": [
            "HELLO\n"
          ]
        }
      ]
    },
    {
      "cell_type": "markdown",
      "source": [
        "####Q5: Write a code to replace the word \"apple\" with \"orange\" in the string \"I like apple\""
      ],
      "metadata": {
        "id": "Y9rY6jW9r3l0"
      }
    },
    {
      "cell_type": "code",
      "source": [
        "text = \"I like apple\"\n",
        "new_text = text.replace(\"apple\", \"orange\")\n",
        "print(new_text)"
      ],
      "metadata": {
        "colab": {
          "base_uri": "https://localhost:8080/"
        },
        "id": "i-LcIZZLr2y5",
        "outputId": "ccce283b-0b91-4375-8a31-3cde09a56686"
      },
      "execution_count": 7,
      "outputs": [
        {
          "output_type": "stream",
          "name": "stdout",
          "text": [
            "I like orange\n"
          ]
        }
      ]
    },
    {
      "cell_type": "markdown",
      "source": [
        "####Q6: Write a code to create a list with numbers 1 to 5 and print it"
      ],
      "metadata": {
        "id": "yv2DlkhHr-Dr"
      }
    },
    {
      "cell_type": "code",
      "source": [
        "numbers = [1, 2, 3, 4, 5]\n",
        "print(numbers)"
      ],
      "metadata": {
        "colab": {
          "base_uri": "https://localhost:8080/"
        },
        "id": "UWm3Gpq7r82_",
        "outputId": "c8a2efe7-e653-4e74-acf0-07967dc4c8dc"
      },
      "execution_count": 8,
      "outputs": [
        {
          "output_type": "stream",
          "name": "stdout",
          "text": [
            "[1, 2, 3, 4, 5]\n"
          ]
        }
      ]
    },
    {
      "cell_type": "markdown",
      "source": [
        "####Q7: Write a code to append the number 10 to the list [1, 2, 3, 4]"
      ],
      "metadata": {
        "id": "cBzNNFItsF5L"
      }
    },
    {
      "cell_type": "code",
      "source": [
        "numbers = [1, 2, 3, 4]\n",
        "numbers.append(10)\n",
        "print(numbers)"
      ],
      "metadata": {
        "colab": {
          "base_uri": "https://localhost:8080/"
        },
        "id": "g4ikTD7MsEEL",
        "outputId": "2de83ae6-d914-4544-fe9f-2cf7411b1f5b"
      },
      "execution_count": 9,
      "outputs": [
        {
          "output_type": "stream",
          "name": "stdout",
          "text": [
            "[1, 2, 3, 4, 10]\n"
          ]
        }
      ]
    },
    {
      "cell_type": "markdown",
      "source": [
        "####Q8: Write a code to remove the number 3 from the list [1, 2, 3, 4, 5]"
      ],
      "metadata": {
        "id": "Z8HqKnhnsONj"
      }
    },
    {
      "cell_type": "code",
      "source": [
        "numbers = [1, 2, 3, 4, 5]\n",
        "numbers.remove(3)\n",
        "print(numbers)"
      ],
      "metadata": {
        "colab": {
          "base_uri": "https://localhost:8080/"
        },
        "id": "Hul45WebsLls",
        "outputId": "778ad62a-6e7b-4f50-c476-f9e72776b4ac"
      },
      "execution_count": 10,
      "outputs": [
        {
          "output_type": "stream",
          "name": "stdout",
          "text": [
            "[1, 2, 4, 5]\n"
          ]
        }
      ]
    },
    {
      "cell_type": "markdown",
      "source": [
        "####Q9: Write a code to access the second element in the list ['a', 'b', 'c', 'd']"
      ],
      "metadata": {
        "id": "KulM62XmsZg7"
      }
    },
    {
      "cell_type": "code",
      "source": [
        "letters = ['a', 'b', 'c', 'd']\n",
        "second_element = letters[1]\n",
        "print(second_element)"
      ],
      "metadata": {
        "colab": {
          "base_uri": "https://localhost:8080/"
        },
        "id": "AMgJwIWHsT4f",
        "outputId": "493e8774-b088-45f7-b617-99047f2bba9b"
      },
      "execution_count": 11,
      "outputs": [
        {
          "output_type": "stream",
          "name": "stdout",
          "text": [
            "b\n"
          ]
        }
      ]
    },
    {
      "cell_type": "markdown",
      "source": [
        "####Q10: Write a code to reverse the list [10, 20, 30, 40, 50]"
      ],
      "metadata": {
        "id": "3cr7GbmGsd9r"
      }
    },
    {
      "cell_type": "code",
      "source": [
        "numbers = [10, 20, 30, 40, 50]\n",
        "numbers.reverse()\n",
        "print(numbers)"
      ],
      "metadata": {
        "colab": {
          "base_uri": "https://localhost:8080/"
        },
        "id": "xed5NsggscJO",
        "outputId": "53010a06-020e-4ebd-813d-66bce937422b"
      },
      "execution_count": 12,
      "outputs": [
        {
          "output_type": "stream",
          "name": "stdout",
          "text": [
            "[50, 40, 30, 20, 10]\n"
          ]
        }
      ]
    },
    {
      "cell_type": "markdown",
      "source": [
        "####Q10. Write a code to create a list with the elements 10, 20, 30 and print it.\n"
      ],
      "metadata": {
        "id": "nT_LXrJTtd_L"
      }
    },
    {
      "cell_type": "code",
      "source": [
        "lst = [10, 20, 30]\n",
        "print(lst)"
      ],
      "metadata": {
        "colab": {
          "base_uri": "https://localhost:8080/"
        },
        "id": "GTaoV2E9sl90",
        "outputId": "7b2a1399-c7f3-48d0-9011-0896efb6580e"
      },
      "execution_count": 13,
      "outputs": [
        {
          "output_type": "stream",
          "name": "stdout",
          "text": [
            "[10, 20, 30]\n"
          ]
        }
      ]
    },
    {
      "cell_type": "markdown",
      "source": [
        "####Q12. Write a code to access the second-to-last element of the tuple ('red', 'green', 'blue', 'yellow')."
      ],
      "metadata": {
        "id": "7OdAtBBgtj2p"
      }
    },
    {
      "cell_type": "code",
      "source": [
        "colors = ('red', 'green', 'blue', 'yellow')\n",
        "print(colors[-2])"
      ],
      "metadata": {
        "colab": {
          "base_uri": "https://localhost:8080/"
        },
        "id": "lxAfdcp5tikh",
        "outputId": "d21cd1d6-0d2c-47d1-9fb1-551588deef8f"
      },
      "execution_count": 14,
      "outputs": [
        {
          "output_type": "stream",
          "name": "stdout",
          "text": [
            "blue\n"
          ]
        }
      ]
    },
    {
      "cell_type": "markdown",
      "source": [
        "####Q13. Write a code to find the minimum number in the tuple (10, 20, 5, 15)."
      ],
      "metadata": {
        "id": "vDP6hcEwtzOT"
      }
    },
    {
      "cell_type": "code",
      "source": [
        "numbers = (10, 20, 5, 15)\n",
        "print(min(numbers))"
      ],
      "metadata": {
        "colab": {
          "base_uri": "https://localhost:8080/"
        },
        "id": "f-059CWntrd8",
        "outputId": "e3d5e056-96e6-47b4-a5eb-3cb91f2fc8e0"
      },
      "execution_count": 15,
      "outputs": [
        {
          "output_type": "stream",
          "name": "stdout",
          "text": [
            "5\n"
          ]
        }
      ]
    },
    {
      "cell_type": "markdown",
      "source": [
        "####Q14. Write a code to find the index of the element \"cat\" in the tuple ('dog', 'cat', 'rabbit')."
      ],
      "metadata": {
        "id": "c1oZHRoJuCiZ"
      }
    },
    {
      "cell_type": "code",
      "source": [
        "animals = ('dog', 'cat', 'rabbit')\n",
        "print(animals.index('cat'))"
      ],
      "metadata": {
        "colab": {
          "base_uri": "https://localhost:8080/"
        },
        "id": "ZYJ0kb90t3Yd",
        "outputId": "2f1b5298-746e-41bb-9551-3c5d6ca2341f"
      },
      "execution_count": 16,
      "outputs": [
        {
          "output_type": "stream",
          "name": "stdout",
          "text": [
            "1\n"
          ]
        }
      ]
    },
    {
      "cell_type": "markdown",
      "source": [
        "####Q15. Write a code to create a tuple containing three different fruits and check if \"kiwi\" is in it."
      ],
      "metadata": {
        "id": "VzJzeFf5uFcq"
      }
    },
    {
      "cell_type": "code",
      "source": [
        "fruits = ('apple', 'banana', 'orange')\n",
        "print('kiwi' in fruits)"
      ],
      "metadata": {
        "colab": {
          "base_uri": "https://localhost:8080/"
        },
        "id": "kTQy9t7ouUd5",
        "outputId": "3a630630-9269-4ef3-c980-fca9e2e48ca7"
      },
      "execution_count": 17,
      "outputs": [
        {
          "output_type": "stream",
          "name": "stdout",
          "text": [
            "False\n"
          ]
        }
      ]
    },
    {
      "cell_type": "markdown",
      "source": [
        "####Q16. Write a code to create a set with the elements 'a', 'b', 'c' and print it."
      ],
      "metadata": {
        "id": "VV6dmEe1uJbq"
      }
    },
    {
      "cell_type": "code",
      "source": [
        "s = {'a', 'b', 'c'}\n",
        "print(s)"
      ],
      "metadata": {
        "colab": {
          "base_uri": "https://localhost:8080/"
        },
        "id": "r40ZMkh1uVhq",
        "outputId": "76521f15-c456-4512-9ab8-42c632efcb4e"
      },
      "execution_count": 18,
      "outputs": [
        {
          "output_type": "stream",
          "name": "stdout",
          "text": [
            "{'b', 'c', 'a'}\n"
          ]
        }
      ]
    },
    {
      "cell_type": "markdown",
      "source": [
        "####Q17. Write a code to clear all elements from the set {1, 2, 3, 4, 5}."
      ],
      "metadata": {
        "id": "bbSajugSuWeq"
      }
    },
    {
      "cell_type": "code",
      "source": [
        "s = {1, 2, 3, 4, 5}\n",
        "s.clear()\n",
        "print(s)"
      ],
      "metadata": {
        "colab": {
          "base_uri": "https://localhost:8080/"
        },
        "id": "7rjwcGbBuZ4b",
        "outputId": "226627e3-554e-4b04-8ffc-44bc5893ce24"
      },
      "execution_count": 19,
      "outputs": [
        {
          "output_type": "stream",
          "name": "stdout",
          "text": [
            "set()\n"
          ]
        }
      ]
    },
    {
      "cell_type": "markdown",
      "source": [
        "####Q18. Write a code to remove the element 4 from the set {1, 2, 3, 4}."
      ],
      "metadata": {
        "id": "bRDHKuBKuaPK"
      }
    },
    {
      "cell_type": "code",
      "source": [
        "s = {1, 2, 3, 4}\n",
        "s.remove(4)\n",
        "print(s)"
      ],
      "metadata": {
        "colab": {
          "base_uri": "https://localhost:8080/"
        },
        "id": "PlkycxxTudLZ",
        "outputId": "30c5590c-0200-423b-ed70-c07c61ebd0e0"
      },
      "execution_count": 20,
      "outputs": [
        {
          "output_type": "stream",
          "name": "stdout",
          "text": [
            "{1, 2, 3}\n"
          ]
        }
      ]
    },
    {
      "cell_type": "markdown",
      "source": [
        "####Q19. Write a code to find the union of two sets {1, 2, 3} and {3, 4, 5}."
      ],
      "metadata": {
        "id": "SaRKpF-Eud7K"
      }
    },
    {
      "cell_type": "code",
      "source": [
        "a = {1, 2, 3}\n",
        "b = {3, 4, 5}\n",
        "print(a.union(b))"
      ],
      "metadata": {
        "colab": {
          "base_uri": "https://localhost:8080/"
        },
        "id": "NOIgbcw2uhED",
        "outputId": "4e6c9578-68bf-4b61-9e9a-3f4546b3484b"
      },
      "execution_count": 21,
      "outputs": [
        {
          "output_type": "stream",
          "name": "stdout",
          "text": [
            "{1, 2, 3, 4, 5}\n"
          ]
        }
      ]
    },
    {
      "cell_type": "markdown",
      "source": [
        "####Q20. Write a code to find the intersection of two sets {1, 2, 3} and {2, 3, 4}."
      ],
      "metadata": {
        "id": "mOytETi1uiT6"
      }
    },
    {
      "cell_type": "code",
      "source": [
        "a = {1, 2, 3}\n",
        "b = {2, 3, 4}\n",
        "print(a.intersection(b))"
      ],
      "metadata": {
        "colab": {
          "base_uri": "https://localhost:8080/"
        },
        "id": "UEZ_DqGMul0b",
        "outputId": "63920069-2021-497b-d904-e44168f10b14"
      },
      "execution_count": 22,
      "outputs": [
        {
          "output_type": "stream",
          "name": "stdout",
          "text": [
            "{2, 3}\n"
          ]
        }
      ]
    },
    {
      "cell_type": "markdown",
      "source": [
        "####Q21. Write a code to create a dictionary with the keys \"name\", \"age\", and \"city\", and print it."
      ],
      "metadata": {
        "id": "KhC-HzvTumXh"
      }
    },
    {
      "cell_type": "code",
      "source": [
        "person = {'name': 'John', 'age': 30, 'city': 'London'}\n",
        "print(person)"
      ],
      "metadata": {
        "colab": {
          "base_uri": "https://localhost:8080/"
        },
        "id": "hK3gKeaNuphB",
        "outputId": "51fa4c86-b06d-4855-ef9f-de9005527784"
      },
      "execution_count": 23,
      "outputs": [
        {
          "output_type": "stream",
          "name": "stdout",
          "text": [
            "{'name': 'John', 'age': 30, 'city': 'London'}\n"
          ]
        }
      ]
    },
    {
      "cell_type": "markdown",
      "source": [
        "####Q22. Write a code to add a new key-value pair \"country\": \"USA\" to the dictionary {'name': 'John', 'age': 25}."
      ],
      "metadata": {
        "id": "AXrmwoANup6L"
      }
    },
    {
      "cell_type": "code",
      "source": [
        "person = {'name': 'John', 'age': 25}\n",
        "person['country'] = 'USA'\n",
        "print(person)"
      ],
      "metadata": {
        "colab": {
          "base_uri": "https://localhost:8080/"
        },
        "id": "PO30QUZWus9p",
        "outputId": "e27f39e4-9e18-4563-bb09-0a716a8120ee"
      },
      "execution_count": 24,
      "outputs": [
        {
          "output_type": "stream",
          "name": "stdout",
          "text": [
            "{'name': 'John', 'age': 25, 'country': 'USA'}\n"
          ]
        }
      ]
    },
    {
      "cell_type": "markdown",
      "source": [
        "####Q23. Write a code to access the value associated with the key \"name\" in the dictionary {'name': 'Alice', 'age': 30}."
      ],
      "metadata": {
        "id": "MzUh1B-autpB"
      }
    },
    {
      "cell_type": "code",
      "source": [
        "person = {'name': 'Alice', 'age': 30}\n",
        "print(person['name'])"
      ],
      "metadata": {
        "colab": {
          "base_uri": "https://localhost:8080/"
        },
        "id": "Gq0kaCHquweg",
        "outputId": "c2865ab4-c780-4fea-c492-9d42fa606c88"
      },
      "execution_count": 25,
      "outputs": [
        {
          "output_type": "stream",
          "name": "stdout",
          "text": [
            "Alice\n"
          ]
        }
      ]
    },
    {
      "cell_type": "markdown",
      "source": [
        "####Q24. Write a code to remove the key \"age\" from the dictionary {'name': 'Bob', 'age': 22, 'city': 'New York'}.\n"
      ],
      "metadata": {
        "id": "tb8HWhqAuw4R"
      }
    },
    {
      "cell_type": "code",
      "source": [
        "person = {'name': 'Bob', 'age': 22, 'city': 'New York'}\n",
        "del person['age']\n",
        "print(person)"
      ],
      "metadata": {
        "colab": {
          "base_uri": "https://localhost:8080/"
        },
        "id": "y_2HERzUuzuS",
        "outputId": "beebebff-3aa8-40d1-860c-f8c0302d8163"
      },
      "execution_count": 26,
      "outputs": [
        {
          "output_type": "stream",
          "name": "stdout",
          "text": [
            "{'name': 'Bob', 'city': 'New York'}\n"
          ]
        }
      ]
    },
    {
      "cell_type": "markdown",
      "source": [
        "####Q25. Write a code to check if the key \"city\" exists in the dictionary {'name': 'Alice', 'city': 'Paris'}.\n"
      ],
      "metadata": {
        "id": "8iCC1z57u0BA"
      }
    },
    {
      "cell_type": "code",
      "source": [
        "person = {'name': 'Alice', 'city': 'Paris'}\n",
        "print('city' in person)"
      ],
      "metadata": {
        "colab": {
          "base_uri": "https://localhost:8080/"
        },
        "id": "w5ZRp_I9u34a",
        "outputId": "9143b9c8-d3a5-496a-c00e-d963f7a511ea"
      },
      "execution_count": 27,
      "outputs": [
        {
          "output_type": "stream",
          "name": "stdout",
          "text": [
            "True\n"
          ]
        }
      ]
    },
    {
      "cell_type": "markdown",
      "source": [
        "####Q26. Write a code to create a list, a tuple, and a dictionary, and print them all."
      ],
      "metadata": {
        "id": "Lr5CoREPu4Oq"
      }
    },
    {
      "cell_type": "code",
      "source": [
        "lst = [1, 2, 3]\n",
        "tup = (4, 5, 6)\n",
        "dict = {'a': 7, 'b': 8}\n",
        "print(lst, tup, dict)"
      ],
      "metadata": {
        "colab": {
          "base_uri": "https://localhost:8080/"
        },
        "id": "odva8g6mu70x",
        "outputId": "5e26b057-5f40-4072-fa77-fb87f0222b15"
      },
      "execution_count": 29,
      "outputs": [
        {
          "output_type": "stream",
          "name": "stdout",
          "text": [
            "[1, 2, 3] (4, 5, 6) {'a': 7, 'b': 8}\n"
          ]
        }
      ]
    },
    {
      "cell_type": "markdown",
      "source": [
        "####Q27. Write a code to create a list of 5 random numbers between 1 and 100, sort it in ascending order, and print the result."
      ],
      "metadata": {
        "id": "ZTfwBOTYu8Zk"
      }
    },
    {
      "cell_type": "code",
      "source": [
        "import random\n",
        "numbers = random.sample(range(1, 101), 5)\n",
        "numbers.sort()\n",
        "print(numbers)"
      ],
      "metadata": {
        "colab": {
          "base_uri": "https://localhost:8080/"
        },
        "id": "gcWo-Pleu-l5",
        "outputId": "039a52bf-c186-4a7a-ef47-30d21688e830"
      },
      "execution_count": 30,
      "outputs": [
        {
          "output_type": "stream",
          "name": "stdout",
          "text": [
            "[5, 10, 21, 52, 88]\n"
          ]
        }
      ]
    },
    {
      "cell_type": "markdown",
      "source": [
        "####Q28. Write a code to create a list with strings and print the element at the third index."
      ],
      "metadata": {
        "id": "KfirO5pUu_Fi"
      }
    },
    {
      "cell_type": "code",
      "source": [
        "words = ['apple', 'banana', 'cherry', 'date', 'fig']\n",
        "print(words[3])"
      ],
      "metadata": {
        "colab": {
          "base_uri": "https://localhost:8080/"
        },
        "id": "4HW0aVPRvB8w",
        "outputId": "8f1b5a99-e417-4900-e336-ee9f5a0ef570"
      },
      "execution_count": 31,
      "outputs": [
        {
          "output_type": "stream",
          "name": "stdout",
          "text": [
            "date\n"
          ]
        }
      ]
    },
    {
      "cell_type": "markdown",
      "source": [
        "####Q29. Write a code to combine two dictionaries into one and print the result."
      ],
      "metadata": {
        "id": "vQ0_I38svD-V"
      }
    },
    {
      "cell_type": "code",
      "source": [
        "a = {'x': 1, 'y': 2}\n",
        "b = {'y': 3, 'z': 4}\n",
        "combined = {**a, **b}\n",
        "print(combined)"
      ],
      "metadata": {
        "colab": {
          "base_uri": "https://localhost:8080/"
        },
        "id": "5rRk8nDnvHqE",
        "outputId": "9fd9a7d9-a5b3-423e-8678-2b3c342a397d"
      },
      "execution_count": 32,
      "outputs": [
        {
          "output_type": "stream",
          "name": "stdout",
          "text": [
            "{'x': 1, 'y': 3, 'z': 4}\n"
          ]
        }
      ]
    },
    {
      "cell_type": "markdown",
      "source": [
        "####Q30. Write a code to convert a list of strings into a set."
      ],
      "metadata": {
        "id": "i35b98FkvIO8"
      }
    },
    {
      "cell_type": "code",
      "source": [
        "words = ['apple', 'banana', 'apple', 'cherry']\n",
        "unique_words = set(words)\n",
        "print(unique_words)"
      ],
      "metadata": {
        "colab": {
          "base_uri": "https://localhost:8080/"
        },
        "id": "L6p5oLRbvLuJ",
        "outputId": "66e6b3fd-ebea-4783-e927-15d3d62672b7"
      },
      "execution_count": 33,
      "outputs": [
        {
          "output_type": "stream",
          "name": "stdout",
          "text": [
            "{'cherry', 'apple', 'banana'}\n"
          ]
        }
      ]
    }
  ]
}